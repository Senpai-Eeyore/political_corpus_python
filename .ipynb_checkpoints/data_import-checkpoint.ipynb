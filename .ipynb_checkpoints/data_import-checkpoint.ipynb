{
 "cells": [
  {
   "cell_type": "markdown",
   "id": "f9a32fa1-9392-406b-9b9a-f0709a42a5f1",
   "metadata": {},
   "source": [
    "Importing Libraries to Start"
   ]
  },
  {
   "cell_type": "code",
   "execution_count": 1,
   "id": "344cdc62-7e13-4fc9-93ba-fbbb13ba1575",
   "metadata": {},
   "outputs": [],
   "source": [
    "from bs4 import BeautifulSoup\n",
    "import requests\n",
    "import numpy as np\n",
    "import pandas as pd\n",
    "import regex as re"
   ]
  },
  {
   "cell_type": "code",
   "execution_count": 2,
   "id": "f424d25d-f390-4ae6-a6c9-a30d61103e59",
   "metadata": {},
   "outputs": [],
   "source": [
    "def link_getting(url, my_headers, explore = True, html_get = \"a\", reg_exp = \"\"):\n",
    "    session = requests.Session()\n",
    "    try:\n",
    "        con = session.get(url, headers = my_headers)\n",
    "    except Exception as e:\n",
    "        print(\"Error feteching the URL \", url)\n",
    "        print(e)\n",
    "    try:\n",
    "        soup = BeautifulSoup(con.text, \"html.parser\")\n",
    "    except Exception as e:\n",
    "        print(\"Could not parse: \", url)\n",
    "        print(e)\n",
    "    if explore:\n",
    "        container_list = soup.find_all(html_get)\n",
    "        return([tag for tag in container_list])\n",
    "    else:\n",
    "        container_list = soup.find_all(html_get, href=re.compile(reg_exp))\n",
    "        return([tag.get(\"href\") for tag in container_list])\n",
    "    \n",
    "def unique_array(list1):\n",
    "    temp = np.array(list1)\n",
    "    return np.unique(temp)"
   ]
  },
  {
   "cell_type": "code",
   "execution_count": 3,
   "id": "8675069d-894e-4183-af69-103e21aa9310",
   "metadata": {},
   "outputs": [],
   "source": [
    "my_headers = {\"User-Agent\": \"Mozilla/5.0 (X11; Linux x86_64; rv:107.0) Gecko/20100101 Firefox/107.0\"}\n",
    "\n",
    "jacobin_blog = \"https://jacobin.com/blog\"\n",
    "\n",
    "heritage = \"https://www.heritage.org/\""
   ]
  },
  {
   "cell_type": "code",
   "execution_count": 4,
   "id": "2567ee09-ea66-412c-a709-dbb0a7164a39",
   "metadata": {},
   "outputs": [],
   "source": [
    "jacobin_initial_list = link_getting(jacobin_blog, my_headers, explore = False, html_get = \"a\", reg_exp = \"^/\\w*\")"
   ]
  },
  {
   "cell_type": "code",
   "execution_count": 5,
   "id": "9ddb0bdf-cd89-4c31-9e67-314cabc29a7e",
   "metadata": {},
   "outputs": [],
   "source": [
    "heritage_initial_list = link_getting(heritage, my_headers, explore = False, html_get = \"a\", reg_exp = \"^/\\w*\")"
   ]
  },
  {
   "cell_type": "code",
   "execution_count": 7,
   "id": "707d20fe-1dac-473d-92c9-df9af277cc34",
   "metadata": {},
   "outputs": [
    {
     "data": {
      "text/plain": [
       "array(['/', '/about-heritage/impact', '/about-heritage/mission',\n",
       "       '/about-heritage/staff/experts', '/africa', '/agriculture',\n",
       "       '/american-founders',\n",
       "       '/american-founders/commentary/1776-commission-can-have-second-life-outside-federal-government',\n",
       "       '/americas',\n",
       "       '/americas/commentary/venezuela-bizarre-piece-bidens-incoherent-energy-policy-puzzle',\n",
       "       '/americas/impact/heritage-president-visits-guatemala-strengthen-ties-speak-national-prayer-breakfast',\n",
       "       '/arms-control', '/asia',\n",
       "       '/asia/commentary/privileged-billionaire-michael-bloomberg-needs-apologize-the-chinese-people',\n",
       "       '/asia/commentary/the-life-the-party-xis-new-politburo-and-chinas-technological-ambitions',\n",
       "       '/asia/commentary/what-missing-americas-china-policy',\n",
       "       '/asia/report/human-rights-and-security-issues-hurdles-chinas-olympic-trackto-respectability',\n",
       "       '/asia/report/the-diplomatic-and-political-dimension-us-policy-toward-taiwan',\n",
       "       '/budget-and-spending',\n",
       "       '/budget-and-spending/commentary/hey-congress-no-last-minute-shopping-taxpayer-expense',\n",
       "       '/budget-and-spending/report/federal-spending-the-numbers-2010',\n",
       "       '/budget-and-spending/report/most-new-spending-2001-unrelated-the-war-terrorism',\n",
       "       '/civil-rights', '/civil-society', '/coal-oil-natural-gas',\n",
       "       '/coal-oil-natural-gas/report/policy-review-21-summer-1982',\n",
       "       '/conservatism',\n",
       "       '/conservatism/commentary/creative-destruction-and-the-conservative-movement',\n",
       "       '/contact', '/courts',\n",
       "       '/courts/commentary/alitos-telling-approach-substantive-due-process',\n",
       "       '/courts/commentary/supreme-court-justices-question-biden-administrations-reckless-border-policy',\n",
       "       '/crime-and-justice',\n",
       "       '/crime-and-justice/commentary/designating-antifa-domestic-terror-organization-step-the-right',\n",
       "       '/crime-and-justice/commentary/michael-flynn-appeals-court-should-grant-these-two-requests-case-judge',\n",
       "       '/cybersecurity', '/debt', '/defense',\n",
       "       '/defense/commentary/3-ways-chinese-nuclear-buildup-threatens-us-national-security-interests',\n",
       "       '/defense/commentary/what-battle-force-2045-and-why-does-it-matter',\n",
       "       '/economic-and-property-rights', '/education',\n",
       "       '/education/impact/heritages-pressure-makes-district-columbia-delay-vaccine-mandate-schoolchildren',\n",
       "       '/education/impact/virginia-governor-appoints-lindsey-burke-george-mason-university-board',\n",
       "       '/election-integrity',\n",
       "       '/election-integrity/commentary/we-shouldnt-be-promoting-voting-mail',\n",
       "       '/election-integrity/report/history-and-consequences-setting-the-record-straight-the-elections-clause',\n",
       "       '/energy-economics',\n",
       "       '/energy-economics/commentary/climate-money-pouring-washington-watch-out-the-rinos',\n",
       "       '/energy-economics/commentary/hard-winter-looms-americans-energy-bills-and-wallets-blame-biden',\n",
       "       '/energy-economics/commentary/reasons-texas-blackouts-and-how-best-avoid-them-going-forward',\n",
       "       '/environment', '/europe', '/events', '/firearms', '/gender',\n",
       "       '/global-politics', '/government-regulation',\n",
       "       '/government-regulation/commentary/why-congress-should-reject-manchins-permitting-bill-and-enact',\n",
       "       '/health-care-reform',\n",
       "       '/health-care-reform/report/majority-believe-delaying-obamacare-repeal-damaging',\n",
       "       '/health-care-reform/report/obamacare-and-new-taxes-destroying-jobs-and-the-economy',\n",
       "       '/homeland-security',\n",
       "       '/homeland-security/report/intelligence-recommendations-bear-scrutiny',\n",
       "       '/homeland-security/report/the-afghan-adjustment-act-would-not-facilitate-safe-or-orderly-us-entry',\n",
       "       '/housing', '/hunger-and-food-programs', '/immigration',\n",
       "       '/immigration/commentary/new-trump-rule-aims-protect-us-criminal-aliens-exploiting-asylum-system',\n",
       "       '/impact/heritages-solutions-journal-wins-national-graphic-design-award',\n",
       "       '/international-economies', '/jobs-and-labor', '/life',\n",
       "       '/markets-and-finance', '/marriage-and-family',\n",
       "       '/marriage-and-family/commentary/radical-respect-marriage-act-could-spell-end-religious-tax',\n",
       "       '/medicaid', '/medicare', '/middle-east',\n",
       "       '/middle-east/commentary/iranian-arms-sales-moscow-benefit-tehran-too',\n",
       "       '/middle-east/commentary/propaganda-trumps-sports-irans-world-cup-team',\n",
       "       '/missile-defense', '/monetary-policy', '/node/24954211',\n",
       "       '/nuclear-energy',\n",
       "       '/nuclear-energy/commentary/promising-sign-nuclear-power-the-united-kingdom',\n",
       "       '/podcasts', '/political-process',\n",
       "       '/political-process/report/regurgitating-the-apple-how-modern-liberals-think',\n",
       "       '/poverty-and-inequality',\n",
       "       '/poverty-and-inequality/report/the-2009-index-dependence-government',\n",
       "       '/press', '/progressivism',\n",
       "       '/progressivism/commentary/whats-really-behind-the-biden-administrations-televisa-univision-sale',\n",
       "       '/public-health', '/public-opinion', '/religious-liberty',\n",
       "       '/renewable-energy',\n",
       "       '/report/the-effects-the-obama-tax-plan-new-york',\n",
       "       '/science-policy', '/search?contains=Budget and Spending',\n",
       "       '/search?contains=China', '/search?contains=Critical Race Theory ',\n",
       "       '/search?contains=Index of Economic Freedom',\n",
       "       '/search?contains=Life', '/search?contains=The Kevin Roberts Show',\n",
       "       '/social-security', '/space-policy', '/staff/charles-stimson',\n",
       "       '/staff/genevieve-wood', '/staff/hans-von-spakovsky',\n",
       "       '/staff/james-carafano', '/staff/joel-griffith',\n",
       "       '/staff/john-malcolm', '/staff/kara-frederick',\n",
       "       '/staff/kevin-roberts-phd', '/staff/lindsey-burke',\n",
       "       '/staff/lora-ries', '/staff/mark-morgan', '/staff/mike-gonzalez',\n",
       "       '/staff/nile-gardiner-phd', '/staff/paul-dans',\n",
       "       '/staff/roger-severino', '/staff/sarah-parshall-perry', '/taxes',\n",
       "       '/taxes/commentary/4-charts-expose-feds-hypocrisy-cracking-down-taxpayers-while-own-improper-payments',\n",
       "       '/taxes/report/reversing-the-bush-tax-cuts-would-not-fix-social-security',\n",
       "       '/taxes/report/the-effects-the-obama-tax-plan-connecticut',\n",
       "       '/technology', '/terrorism', '/the-academy', '/the-constitution',\n",
       "       '/the-kevin-roberts-show', '/trade', '/training',\n",
       "       '/transportation', '/welfare', '/young-leaders-program',\n",
       "       '/young-leaders-program/highlights-the-ylp-internship'],\n",
       "      dtype='<U100')"
      ]
     },
     "execution_count": 7,
     "metadata": {},
     "output_type": "execute_result"
    }
   ],
   "source": [
    "unique_array(jacobin_initial_list)\n",
    "unique_array(heritage_initial_list)"
   ]
  },
  {
   "cell_type": "code",
   "execution_count": null,
   "id": "a0f2335c-1489-4063-aca2-a325c57abf55",
   "metadata": {},
   "outputs": [],
   "source": []
  }
 ],
 "metadata": {
  "kernelspec": {
   "display_name": "Python 3 (ipykernel)",
   "language": "python",
   "name": "python3"
  },
  "language_info": {
   "codemirror_mode": {
    "name": "ipython",
    "version": 3
   },
   "file_extension": ".py",
   "mimetype": "text/x-python",
   "name": "python",
   "nbconvert_exporter": "python",
   "pygments_lexer": "ipython3",
   "version": "3.9.15"
  }
 },
 "nbformat": 4,
 "nbformat_minor": 5
}
