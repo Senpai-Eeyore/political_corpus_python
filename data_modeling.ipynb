{
 "cells": [
  {
   "cell_type": "code",
   "execution_count": 1,
   "id": "3ef77e17-aab2-426c-b246-5f4a60cd271a",
   "metadata": {},
   "outputs": [],
   "source": [
    "import pandas as pd\n",
    "import numpy as np\n",
    "\n",
    "from sklearn.model_selection import train_test_split\n",
    "from sklearn.feature_extraction.text import CountVectorizer\n",
    "from sklearn.feature_extraction.text import TfidfTransformer\n",
    "from sklearn.pipeline import Pipeline\n",
    "from sklearn.decomposition import TruncatedSVD\n",
    "\n",
    "from sklearn import metrics\n",
    "\n",
    "import scripts.blosc_interface as bi\n",
    "import scripts.corpus_split as cs"
   ]
  },
  {
   "cell_type": "markdown",
   "id": "6aef6301",
   "metadata": {},
   "source": [
    "https://stackoverflow.com/questions/26826002/adding-words-to-stop-words-list-in-tfidfvectorizer-in-sklearn\n",
    "https://stackoverflow.com/questions/50756085/how-to-print-the-progress-of-a-list-comprehension-in-python\n",
    "https://stackoverflow.com/questions/57983431/whats-the-most-space-efficient-way-to-compress-serialized-python-data"
   ]
  },
  {
   "cell_type": "code",
   "execution_count": 2,
   "id": "968d3a9b",
   "metadata": {},
   "outputs": [
    {
     "ename": "",
     "evalue": "",
     "output_type": "error",
     "traceback": [
      "\u001b[1;31mCanceled future for execute_request message before replies were done"
     ]
    },
    {
     "ename": "",
     "evalue": "",
     "output_type": "error",
     "traceback": [
      "\u001b[1;31mThe Kernel crashed while executing code in the the current cell or a previous cell. Please review the code in the cell(s) to identify a possible cause of the failure. Click <a href='https://aka.ms/vscodeJupyterKernelCrash'>here</a> for more info. View Jupyter <a href='command:jupyter.viewOutput'>log</a> for further details."
     ]
    }
   ],
   "source": [
    "full_corpus = bi.blosc_read(\"./data/tokenized_corpus.dat\")"
   ]
  },
  {
   "cell_type": "code",
   "execution_count": null,
   "id": "bb7a821a",
   "metadata": {},
   "outputs": [],
   "source": [
    "x_train, x_test, y_train, y_test = cs.corpus_split(full_corpus)"
   ]
  },
  {
   "cell_type": "code",
   "execution_count": null,
   "id": "51678ffa",
   "metadata": {},
   "outputs": [],
   "source": [
    "log_reg_cv_results = bi.blosc_read(\"./data/log_grid_search_result.dat\")\n",
    "log_reg_cv_results.query(\"rank_test_score <= 5\")"
   ]
  },
  {
   "cell_type": "code",
   "execution_count": null,
   "id": "035255ab",
   "metadata": {},
   "outputs": [],
   "source": [
    "from sklearn.linear_model import LogisticRegression\n",
    "\n",
    "log_clf = Pipeline([\n",
    "            ('vect', CountVectorizer(max_features=400, ngram_range=(1,2))),\n",
    "            ('tfidf', TfidfTransformer()),\n",
    "            (\"svd\", TruncatedSVD(n_components=60)),\n",
    "            ('log_clf', LogisticRegression(penalty=\"l1\", solver = 'saga', C=21.544347, max_iter=1000)), # this needs to be a different solver for LASSO\n",
    "        ])\n",
    "\n"
   ]
  },
  {
   "cell_type": "code",
   "execution_count": null,
   "id": "f90511ff",
   "metadata": {},
   "outputs": [],
   "source": [
    "log_clf.fit(x_train, y_train)\n",
    "\n",
    "predicted = log_clf.predict(x_test)\n",
    "np.mean(predicted == y_test)\n",
    "\n",
    "print(metrics.classification_report(y_test, predicted))\n",
    "\n",
    "metrics.confusion_matrix(y_test, predicted)"
   ]
  },
  {
   "cell_type": "code",
   "execution_count": null,
   "id": "e2fe3980",
   "metadata": {},
   "outputs": [],
   "source": [
    "log_clf[2].n_features_in_"
   ]
  },
  {
   "attachments": {},
   "cell_type": "markdown",
   "id": "b008ddf0",
   "metadata": {},
   "source": [
    "https://scikit-learn.org/stable/auto_examples/compose/plot_digits_pipe.html#sphx-glr-auto-examples-compose-plot-digits-pipe-py"
   ]
  },
  {
   "cell_type": "code",
   "execution_count": null,
   "id": "51906456",
   "metadata": {},
   "outputs": [],
   "source": [
    "# Taken from Sklearn's Auto Examples\n",
    "# Plot the Truncated SVD spectrum\n",
    "import matplotlib.pyplot as plt\n",
    "\n",
    "fig, (ax0, ax1) = plt.subplots(nrows=2, sharex=True, figsize=(6, 6))\n",
    "ax0.plot(\n",
    "    np.arange(1, log_clf[2].n_components + 1), log_clf[2].explained_variance_ratio_, \"+\", linewidth=2\n",
    ")\n",
    "ax0.set_ylabel(\"PCA explained variance ratio\")\n",
    "\n",
    "ax0.axvline(\n",
    "    log_clf[2].n_components,\n",
    "    linestyle=\":\",\n",
    "    label=\"n_components chosen\",\n",
    ")\n",
    "ax0.legend(prop=dict(size=12))\n",
    "\n",
    "# For each number of components, find the best classifier results\n",
    "results = log_reg_cv_results\n",
    "components_col = \"param_svd__n_components\"\n",
    "best_clfs = results.groupby(components_col).apply(\n",
    "    lambda g: g.nlargest(1, \"mean_test_score\")\n",
    ")\n",
    "\n",
    "best_clfs.plot(\n",
    "    x=components_col, y=\"mean_test_score\", yerr=\"std_test_score\", legend=False, ax=ax1\n",
    ")\n",
    "ax1.set_ylabel(\"Classification accuracy (val)\")\n",
    "ax1.set_xlabel(\"n_components\")\n",
    "\n",
    "plt.xlim(-1, 70)\n",
    "\n",
    "plt.tight_layout()\n",
    "plt.show()\n"
   ]
  },
  {
   "cell_type": "code",
   "execution_count": null,
   "id": "5896b741",
   "metadata": {},
   "outputs": [],
   "source": [
    "svc_reg_cv_results = bi.blosc_read(\"./data/svc_grid_search_result.dat\")\n",
    "svc_reg_cv_results.query(\"rank_test_score <= 5\")"
   ]
  },
  {
   "cell_type": "code",
   "execution_count": null,
   "id": "cbc1cf6a",
   "metadata": {},
   "outputs": [],
   "source": [
    "from sklearn.svm import LinearSVC\n",
    "\n",
    "svc_clf = Pipeline([\n",
    "            ('vect', CountVectorizer()),\n",
    "            ('tfidf', TfidfTransformer()),\n",
    "            (\"svd\", TruncatedSVD()),\n",
    "            ('svc_clf', LinearSVC()),\n",
    "        ])"
   ]
  },
  {
   "cell_type": "code",
   "execution_count": null,
   "id": "f3532ecb",
   "metadata": {},
   "outputs": [],
   "source": [
    "svc_clf.fit(x_train, y_train)\n",
    "\n",
    "predicted = svc_clf.predict(x_test)\n",
    "np.mean(predicted == y_test)\n",
    "\n",
    "print(metrics.classification_report(y_test, predicted))\n",
    "\n",
    "metrics.confusion_matrix(y_test, predicted)"
   ]
  },
  {
   "cell_type": "code",
   "execution_count": null,
   "id": "ad385df0",
   "metadata": {},
   "outputs": [],
   "source": [
    "knn_reg_cv_results = bi.blosc_read(\"./data/knn_grid_search_result.dat\")\n",
    "knn_reg_cv_results.query(\"rank_test_score <= 5\")"
   ]
  },
  {
   "cell_type": "code",
   "execution_count": null,
   "id": "fbd20b61",
   "metadata": {},
   "outputs": [],
   "source": [
    "knn_clf = Pipeline([\n",
    "        ('vect', CountVectorizer()),\n",
    "        ('tfidf', TfidfTransformer()),\n",
    "        (\"svd\", TruncatedSVD()),\n",
    "        ('knn_clf', KNeighborsClassifier()), # this needs to be a different solver for LASSO\n",
    "    ])"
   ]
  },
  {
   "cell_type": "code",
   "execution_count": null,
   "id": "2df58e81",
   "metadata": {},
   "outputs": [],
   "source": [
    "knn_clf.fit(x_train, y_train)\n",
    "\n",
    "predicted = knn_clf.predict(x_test)\n",
    "np.mean(predicted == y_test)\n",
    "\n",
    "print(metrics.classification_report(y_test, predicted))\n",
    "\n",
    "metrics.confusion_matrix(y_test, predicted)"
   ]
  }
 ],
 "metadata": {
  "kernelspec": {
   "display_name": "Python 3 (ipykernel)",
   "language": "python",
   "name": "python3"
  },
  "language_info": {
   "codemirror_mode": {
    "name": "ipython",
    "version": 3
   },
   "file_extension": ".py",
   "mimetype": "text/x-python",
   "name": "python",
   "nbconvert_exporter": "python",
   "pygments_lexer": "ipython3",
   "version": "3.9.15"
  },
  "vscode": {
   "interpreter": {
    "hash": "6e38ea1e5deeed82a3b294ec323014828b987cd6fe46463ab21a833d1705cc24"
   }
  }
 },
 "nbformat": 4,
 "nbformat_minor": 5
}
