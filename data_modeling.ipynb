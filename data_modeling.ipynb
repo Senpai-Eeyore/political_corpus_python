{
 "cells": [
  {
   "cell_type": "code",
   "execution_count": 1,
   "id": "3ef77e17-aab2-426c-b246-5f4a60cd271a",
   "metadata": {},
   "outputs": [],
   "source": [
    "import pandas as pd\n",
    "import numpy as np\n",
    "from pprint import pprint\n",
    "\n",
    "from sklearn.model_selection import train_test_split\n",
    "from sklearn.feature_extraction.text import CountVectorizer\n",
    "from sklearn.feature_extraction.text import TfidfTransformer\n",
    "from sklearn.naive_bayes import MultinomialNB\n",
    "from sklearn.pipeline import Pipeline\n",
    "from sklearn import metrics\n",
    "\n",
    "from sklearn.decomposition import PCA\n",
    "from sklearn.linear_model import LogisticRegression\n",
    "from sklearn.model_selection import GridSearchCV\n",
    "from sklearn.model_selection import RandomizedSearchCV\n",
    "\n",
    "import scripts.blosc_interface as bi"
   ]
  },
  {
   "cell_type": "markdown",
   "id": "6aef6301",
   "metadata": {},
   "source": [
    "https://stackoverflow.com/questions/26826002/adding-words-to-stop-words-list-in-tfidfvectorizer-in-sklearn\n",
    "https://stackoverflow.com/questions/50756085/how-to-print-the-progress-of-a-list-comprehension-in-python\n",
    "https://stackoverflow.com/questions/57983431/whats-the-most-space-efficient-way-to-compress-serialized-python-data"
   ]
  },
  {
   "cell_type": "code",
   "execution_count": 2,
   "id": "968d3a9b",
   "metadata": {},
   "outputs": [],
   "source": [
    "full_corpus = bi.blosc_read(\"./data/tokenized_corpus.dat\")"
   ]
  },
  {
   "cell_type": "code",
   "execution_count": 4,
   "id": "10d8ddc6",
   "metadata": {},
   "outputs": [
    {
     "data": {
      "text/html": [
       "<div>\n",
       "<style scoped>\n",
       "    .dataframe tbody tr th:only-of-type {\n",
       "        vertical-align: middle;\n",
       "    }\n",
       "\n",
       "    .dataframe tbody tr th {\n",
       "        vertical-align: top;\n",
       "    }\n",
       "\n",
       "    .dataframe thead th {\n",
       "        text-align: right;\n",
       "    }\n",
       "</style>\n",
       "<table border=\"1\" class=\"dataframe\">\n",
       "  <thead>\n",
       "    <tr style=\"text-align: right;\">\n",
       "      <th></th>\n",
       "      <th>art_title</th>\n",
       "      <th>art_author</th>\n",
       "      <th>art_date</th>\n",
       "      <th>art_topic</th>\n",
       "      <th>art_link</th>\n",
       "      <th>art_source</th>\n",
       "      <th>text</th>\n",
       "      <th>art_bias</th>\n",
       "      <th>stemmed_tokens</th>\n",
       "      <th>text_tokens</th>\n",
       "      <th>tokens</th>\n",
       "      <th>stems</th>\n",
       "      <th>text_lem</th>\n",
       "    </tr>\n",
       "  </thead>\n",
       "  <tbody>\n",
       "    <tr>\n",
       "      <th>0</th>\n",
       "      <td>The emerging markets e-commerce opportunity</td>\n",
       "      <td>Christoph Ungerer</td>\n",
       "      <td>2021-03-26</td>\n",
       "      <td>future-development</td>\n",
       "      <td>https://www.brookings.edu/blog/future-developm...</td>\n",
       "      <td>Brookings Institute</td>\n",
       "      <td>while e-commerce giants such as amazon dominat...</td>\n",
       "      <td>left-wing</td>\n",
       "      <td>[e-commerc, giant, amazon, domin, headlin, cov...</td>\n",
       "      <td>[e-commerce, giants, amazon, dominate, headlin...</td>\n",
       "      <td>e-commerce, giants, amazon, dominate, headline...</td>\n",
       "      <td>e-commerc, giant, amazon, domin, headlin, covi...</td>\n",
       "      <td>e-commerce, giants, amazon, dominate, headline...</td>\n",
       "    </tr>\n",
       "    <tr>\n",
       "      <th>1</th>\n",
       "      <td>\"1619\" Pulitzer Will Boost Socialist Teaching ...</td>\n",
       "      <td>Mike Gonzalez</td>\n",
       "      <td>2020-05-11</td>\n",
       "      <td>education</td>\n",
       "      <td>https://www.heritage.org/education/commentary/...</td>\n",
       "      <td>Heritage Commentary</td>\n",
       "      <td>the pulitzer prize board this week awarded its...</td>\n",
       "      <td>right-wing</td>\n",
       "      <td>[pulitz, prize, board, week, award, commentari...</td>\n",
       "      <td>[pulitzer, prize, board, week, awarded, commen...</td>\n",
       "      <td>pulitzer, prize, board, week, awarded, comment...</td>\n",
       "      <td>pulitz, prize, board, week, award, commentari,...</td>\n",
       "      <td>pulitzer, prize, board, week, awarded, comment...</td>\n",
       "    </tr>\n",
       "    <tr>\n",
       "      <th>2</th>\n",
       "      <td>\"1983\" and \"The Brink\" Review: The Most Danger...</td>\n",
       "      <td>Lee Edwards, Ph.D.</td>\n",
       "      <td>2018-08-10</td>\n",
       "      <td>defense</td>\n",
       "      <td>https://www.heritage.org/defense/commentary/19...</td>\n",
       "      <td>Heritage Commentary</td>\n",
       "      <td>most historians agree that the world came clos...</td>\n",
       "      <td>right-wing</td>\n",
       "      <td>[historian, agre, world, came, closest, nuclea...</td>\n",
       "      <td>[historians, agree, world, came, closest, nucl...</td>\n",
       "      <td>historians, agree, world, came, closest, nucle...</td>\n",
       "      <td>historian, agre, world, came, closest, nuclear...</td>\n",
       "      <td>historians, agree, world, came, closest, nucle...</td>\n",
       "    </tr>\n",
       "    <tr>\n",
       "      <th>3</th>\n",
       "      <td>\"60 Minutes\" Snubs the Facts on Education</td>\n",
       "      <td>Jonathan Butcher</td>\n",
       "      <td>2018-03-13</td>\n",
       "      <td>education</td>\n",
       "      <td>https://www.heritage.org/education/commentary/...</td>\n",
       "      <td>Heritage Commentary</td>\n",
       "      <td>beth richardson is committed to her son’s succ...</td>\n",
       "      <td>right-wing</td>\n",
       "      <td>[beth, richardson, commit, son, success, expec...</td>\n",
       "      <td>[beth, richardson, committed, son, success, ex...</td>\n",
       "      <td>beth, richardson, committed, son, success, exp...</td>\n",
       "      <td>beth, richardson, commit, son, success, expect...</td>\n",
       "      <td>beth, richardson, committed, son, success, exp...</td>\n",
       "    </tr>\n",
       "    <tr>\n",
       "      <th>4</th>\n",
       "      <td>\"As Israel and the Arabs Battle, Moscow Collec...</td>\n",
       "      <td>James Phillips</td>\n",
       "      <td>1983-09-20</td>\n",
       "      <td>europe</td>\n",
       "      <td>https://www.heritage.org/europe/report/israel-...</td>\n",
       "      <td>Heritage Report</td>\n",
       "      <td>i i 291 september 20, 1983 as israel and the a...</td>\n",
       "      <td>right-wing</td>\n",
       "      <td>[septemb, israel, arab, ban4, moscow, collect,...</td>\n",
       "      <td>[september, israel, arabs, ban4, moscow, colle...</td>\n",
       "      <td>september, israel, arabs, ban4, moscow, collec...</td>\n",
       "      <td>septemb, israel, arab, ban4, moscow, collect, ...</td>\n",
       "      <td>september, israel, arabs, ban4, moscow, collec...</td>\n",
       "    </tr>\n",
       "  </tbody>\n",
       "</table>\n",
       "</div>"
      ],
      "text/plain": [
       "                                           art_title          art_author  \\\n",
       "0        The emerging markets e-commerce opportunity   Christoph Ungerer   \n",
       "1  \"1619\" Pulitzer Will Boost Socialist Teaching ...       Mike Gonzalez   \n",
       "2  \"1983\" and \"The Brink\" Review: The Most Danger...  Lee Edwards, Ph.D.   \n",
       "3          \"60 Minutes\" Snubs the Facts on Education    Jonathan Butcher   \n",
       "4  \"As Israel and the Arabs Battle, Moscow Collec...      James Phillips   \n",
       "\n",
       "    art_date           art_topic  \\\n",
       "0 2021-03-26  future-development   \n",
       "1 2020-05-11           education   \n",
       "2 2018-08-10             defense   \n",
       "3 2018-03-13           education   \n",
       "4 1983-09-20              europe   \n",
       "\n",
       "                                            art_link           art_source  \\\n",
       "0  https://www.brookings.edu/blog/future-developm...  Brookings Institute   \n",
       "1  https://www.heritage.org/education/commentary/...  Heritage Commentary   \n",
       "2  https://www.heritage.org/defense/commentary/19...  Heritage Commentary   \n",
       "3  https://www.heritage.org/education/commentary/...  Heritage Commentary   \n",
       "4  https://www.heritage.org/europe/report/israel-...      Heritage Report   \n",
       "\n",
       "                                                text    art_bias  \\\n",
       "0  while e-commerce giants such as amazon dominat...   left-wing   \n",
       "1  the pulitzer prize board this week awarded its...  right-wing   \n",
       "2  most historians agree that the world came clos...  right-wing   \n",
       "3  beth richardson is committed to her son’s succ...  right-wing   \n",
       "4  i i 291 september 20, 1983 as israel and the a...  right-wing   \n",
       "\n",
       "                                      stemmed_tokens  \\\n",
       "0  [e-commerc, giant, amazon, domin, headlin, cov...   \n",
       "1  [pulitz, prize, board, week, award, commentari...   \n",
       "2  [historian, agre, world, came, closest, nuclea...   \n",
       "3  [beth, richardson, commit, son, success, expec...   \n",
       "4  [septemb, israel, arab, ban4, moscow, collect,...   \n",
       "\n",
       "                                         text_tokens  \\\n",
       "0  [e-commerce, giants, amazon, dominate, headlin...   \n",
       "1  [pulitzer, prize, board, week, awarded, commen...   \n",
       "2  [historians, agree, world, came, closest, nucl...   \n",
       "3  [beth, richardson, committed, son, success, ex...   \n",
       "4  [september, israel, arabs, ban4, moscow, colle...   \n",
       "\n",
       "                                              tokens  \\\n",
       "0  e-commerce, giants, amazon, dominate, headline...   \n",
       "1  pulitzer, prize, board, week, awarded, comment...   \n",
       "2  historians, agree, world, came, closest, nucle...   \n",
       "3  beth, richardson, committed, son, success, exp...   \n",
       "4  september, israel, arabs, ban4, moscow, collec...   \n",
       "\n",
       "                                               stems  \\\n",
       "0  e-commerc, giant, amazon, domin, headlin, covi...   \n",
       "1  pulitz, prize, board, week, award, commentari,...   \n",
       "2  historian, agre, world, came, closest, nuclear...   \n",
       "3  beth, richardson, commit, son, success, expect...   \n",
       "4  septemb, israel, arab, ban4, moscow, collect, ...   \n",
       "\n",
       "                                            text_lem  \n",
       "0  e-commerce, giants, amazon, dominate, headline...  \n",
       "1  pulitzer, prize, board, week, awarded, comment...  \n",
       "2  historians, agree, world, came, closest, nucle...  \n",
       "3  beth, richardson, committed, son, success, exp...  \n",
       "4  september, israel, arabs, ban4, moscow, collec...  "
      ]
     },
     "execution_count": 4,
     "metadata": {},
     "output_type": "execute_result"
    }
   ],
   "source": [
    "full_corpus.head()"
   ]
  },
  {
   "cell_type": "code",
   "execution_count": 6,
   "id": "bb7a821a",
   "metadata": {},
   "outputs": [],
   "source": [
    "x_text = full_corpus.text_lem\n",
    "y_bias = full_corpus.art_bias\n",
    "\n",
    "x_train, x_test, y_train, y_test = train_test_split(\n",
    "    x_text, y_bias,\n",
    "    test_size=.2,\n",
    "    random_state=42\n",
    ")\n"
   ]
  },
  {
   "cell_type": "code",
   "execution_count": null,
   "id": "1803f49b",
   "metadata": {},
   "outputs": [],
   "source": [
    "nb_clf = Pipeline([\n",
    "    ('vect', CountVectorizer(max_features=200)),\n",
    "    ('tfidf', TfidfTransformer()),\n",
    "    ('clf', MultinomialNB()),\n",
    "])"
   ]
  },
  {
   "cell_type": "code",
   "execution_count": null,
   "id": "1d570f1a",
   "metadata": {},
   "outputs": [],
   "source": [
    "nb_clf.fit(x_train, y_train)"
   ]
  },
  {
   "cell_type": "code",
   "execution_count": null,
   "id": "133f16a4",
   "metadata": {},
   "outputs": [],
   "source": [
    "predicted = nb_clf.predict(x_test)\n",
    "np.mean(predicted == y_test)\n",
    "\n",
    "print(metrics.classification_report(y_test, predicted))\n",
    "\n",
    "metrics.confusion_matrix(y_test, predicted)"
   ]
  },
  {
   "cell_type": "code",
   "execution_count": null,
   "id": "a0c6fba1",
   "metadata": {},
   "outputs": [],
   "source": [
    "coef_values = pd.DataFrame(nb_clf[2].coef_, columns=nb_clf[0].get_feature_names_out())"
   ]
  },
  {
   "cell_type": "code",
   "execution_count": null,
   "id": "968198f6",
   "metadata": {},
   "outputs": [],
   "source": [
    "nb_clf.get_params()"
   ]
  },
  {
   "cell_type": "code",
   "execution_count": null,
   "id": "bb894661",
   "metadata": {},
   "outputs": [],
   "source": [
    "nb_clf[0].get_feature_names_out()"
   ]
  },
  {
   "cell_type": "code",
   "execution_count": 8,
   "id": "66121e59",
   "metadata": {},
   "outputs": [],
   "source": [
    "log_clf = Pipeline([\n",
    "    ('vect', CountVectorizer()),\n",
    "    ('tfidf', TfidfTransformer()),\n",
    "    (\"pca\", PCA()),\n",
    "    ('log_clf', LogisticRegression(penalty=\"l1\")),\n",
    "])\n",
    "\n",
    "log_param_grid = {\n",
    "    \"vect__ngram_range\": [(1, 1), (1, 2)],\n",
    "    \"vect__max_features\": [200, 300, 400],\n",
    "    \"pca__n_components\": [5, 15, 30, 45, 60],\n",
    "    \"log_clf__C\": np.logspace(-4, 4, 4),\n",
    "}\n",
    "\n",
    "log_search = GridSearchCV(log_clf, log_param_grid, cv=5, n_jobs=-1)"
   ]
  },
  {
   "cell_type": "code",
   "execution_count": 9,
   "id": "dd887f10",
   "metadata": {},
   "outputs": [
    {
     "name": "stderr",
     "output_type": "stream",
     "text": [
      "/home/keenans/miniconda3/envs/political_sentiment/lib/python3.9/site-packages/sklearn/model_selection/_validation.py:372: FitFailedWarning: \n",
      "600 fits failed out of a total of 600.\n",
      "The score on these train-test partitions for these parameters will be set to nan.\n",
      "If these failures are not expected, you can try to debug them by setting error_score='raise'.\n",
      "\n",
      "Below are more details about the failures:\n",
      "--------------------------------------------------------------------------------\n",
      "600 fits failed with the following error:\n",
      "Traceback (most recent call last):\n",
      "  File \"/home/keenans/miniconda3/envs/political_sentiment/lib/python3.9/site-packages/sklearn/model_selection/_validation.py\", line 680, in _fit_and_score\n",
      "    estimator.fit(X_train, y_train, **fit_params)\n",
      "  File \"/home/keenans/miniconda3/envs/political_sentiment/lib/python3.9/site-packages/sklearn/pipeline.py\", line 390, in fit\n",
      "    Xt = self._fit(X, y, **fit_params_steps)\n",
      "  File \"/home/keenans/miniconda3/envs/political_sentiment/lib/python3.9/site-packages/sklearn/pipeline.py\", line 348, in _fit\n",
      "    X, fitted_transformer = fit_transform_one_cached(\n",
      "  File \"/home/keenans/miniconda3/envs/political_sentiment/lib/python3.9/site-packages/joblib/memory.py\", line 349, in __call__\n",
      "    return self.func(*args, **kwargs)\n",
      "  File \"/home/keenans/miniconda3/envs/political_sentiment/lib/python3.9/site-packages/sklearn/pipeline.py\", line 893, in _fit_transform_one\n",
      "    res = transformer.fit_transform(X, y, **fit_params)\n",
      "  File \"/home/keenans/miniconda3/envs/political_sentiment/lib/python3.9/site-packages/sklearn/base.py\", line 855, in fit_transform\n",
      "    return self.fit(X, y, **fit_params).transform(X)\n",
      "  File \"/home/keenans/miniconda3/envs/political_sentiment/lib/python3.9/site-packages/sklearn/preprocessing/_data.py\", line 806, in fit\n",
      "    return self.partial_fit(X, y, sample_weight)\n",
      "  File \"/home/keenans/miniconda3/envs/political_sentiment/lib/python3.9/site-packages/sklearn/preprocessing/_data.py\", line 870, in partial_fit\n",
      "    raise ValueError(\n",
      "ValueError: Cannot center sparse matrices: pass `with_mean=False` instead. See docstring for motivation and alternatives.\n",
      "\n",
      "  warnings.warn(some_fits_failed_message, FitFailedWarning)\n",
      "/home/keenans/miniconda3/envs/political_sentiment/lib/python3.9/site-packages/sklearn/model_selection/_search.py:969: UserWarning: One or more of the test scores are non-finite: [nan nan nan nan nan nan nan nan nan nan nan nan nan nan nan nan nan nan\n",
      " nan nan nan nan nan nan nan nan nan nan nan nan nan nan nan nan nan nan\n",
      " nan nan nan nan nan nan nan nan nan nan nan nan nan nan nan nan nan nan\n",
      " nan nan nan nan nan nan nan nan nan nan nan nan nan nan nan nan nan nan\n",
      " nan nan nan nan nan nan nan nan nan nan nan nan nan nan nan nan nan nan\n",
      " nan nan nan nan nan nan nan nan nan nan nan nan nan nan nan nan nan nan\n",
      " nan nan nan nan nan nan nan nan nan nan nan nan]\n",
      "  warnings.warn(\n"
     ]
    },
    {
     "ename": "ValueError",
     "evalue": "Cannot center sparse matrices: pass `with_mean=False` instead. See docstring for motivation and alternatives.",
     "output_type": "error",
     "traceback": [
      "\u001b[0;31m---------------------------------------------------------------------------\u001b[0m",
      "\u001b[0;31mValueError\u001b[0m                                Traceback (most recent call last)",
      "\u001b[0;32m/tmp/ipykernel_25268/2396680811.py\u001b[0m in \u001b[0;36m<module>\u001b[0;34m\u001b[0m\n\u001b[0;32m----> 1\u001b[0;31m \u001b[0mlog_search\u001b[0m\u001b[0;34m.\u001b[0m\u001b[0mfit\u001b[0m\u001b[0;34m(\u001b[0m\u001b[0mx_train\u001b[0m\u001b[0;34m,\u001b[0m \u001b[0my_train\u001b[0m\u001b[0;34m)\u001b[0m\u001b[0;34m\u001b[0m\u001b[0;34m\u001b[0m\u001b[0m\n\u001b[0m",
      "\u001b[0;32m~/miniconda3/envs/political_sentiment/lib/python3.9/site-packages/sklearn/model_selection/_search.py\u001b[0m in \u001b[0;36mfit\u001b[0;34m(self, X, y, groups, **fit_params)\u001b[0m\n\u001b[1;32m    924\u001b[0m             \u001b[0mrefit_start_time\u001b[0m \u001b[0;34m=\u001b[0m \u001b[0mtime\u001b[0m\u001b[0;34m.\u001b[0m\u001b[0mtime\u001b[0m\u001b[0;34m(\u001b[0m\u001b[0;34m)\u001b[0m\u001b[0;34m\u001b[0m\u001b[0;34m\u001b[0m\u001b[0m\n\u001b[1;32m    925\u001b[0m             \u001b[0;32mif\u001b[0m \u001b[0my\u001b[0m \u001b[0;32mis\u001b[0m \u001b[0;32mnot\u001b[0m \u001b[0;32mNone\u001b[0m\u001b[0;34m:\u001b[0m\u001b[0;34m\u001b[0m\u001b[0;34m\u001b[0m\u001b[0m\n\u001b[0;32m--> 926\u001b[0;31m                 \u001b[0mself\u001b[0m\u001b[0;34m.\u001b[0m\u001b[0mbest_estimator_\u001b[0m\u001b[0;34m.\u001b[0m\u001b[0mfit\u001b[0m\u001b[0;34m(\u001b[0m\u001b[0mX\u001b[0m\u001b[0;34m,\u001b[0m \u001b[0my\u001b[0m\u001b[0;34m,\u001b[0m \u001b[0;34m**\u001b[0m\u001b[0mfit_params\u001b[0m\u001b[0;34m)\u001b[0m\u001b[0;34m\u001b[0m\u001b[0;34m\u001b[0m\u001b[0m\n\u001b[0m\u001b[1;32m    927\u001b[0m             \u001b[0;32melse\u001b[0m\u001b[0;34m:\u001b[0m\u001b[0;34m\u001b[0m\u001b[0;34m\u001b[0m\u001b[0m\n\u001b[1;32m    928\u001b[0m                 \u001b[0mself\u001b[0m\u001b[0;34m.\u001b[0m\u001b[0mbest_estimator_\u001b[0m\u001b[0;34m.\u001b[0m\u001b[0mfit\u001b[0m\u001b[0;34m(\u001b[0m\u001b[0mX\u001b[0m\u001b[0;34m,\u001b[0m \u001b[0;34m**\u001b[0m\u001b[0mfit_params\u001b[0m\u001b[0;34m)\u001b[0m\u001b[0;34m\u001b[0m\u001b[0;34m\u001b[0m\u001b[0m\n",
      "\u001b[0;32m~/miniconda3/envs/political_sentiment/lib/python3.9/site-packages/sklearn/pipeline.py\u001b[0m in \u001b[0;36mfit\u001b[0;34m(self, X, y, **fit_params)\u001b[0m\n\u001b[1;32m    388\u001b[0m         \"\"\"\n\u001b[1;32m    389\u001b[0m         \u001b[0mfit_params_steps\u001b[0m \u001b[0;34m=\u001b[0m \u001b[0mself\u001b[0m\u001b[0;34m.\u001b[0m\u001b[0m_check_fit_params\u001b[0m\u001b[0;34m(\u001b[0m\u001b[0;34m**\u001b[0m\u001b[0mfit_params\u001b[0m\u001b[0;34m)\u001b[0m\u001b[0;34m\u001b[0m\u001b[0;34m\u001b[0m\u001b[0m\n\u001b[0;32m--> 390\u001b[0;31m         \u001b[0mXt\u001b[0m \u001b[0;34m=\u001b[0m \u001b[0mself\u001b[0m\u001b[0;34m.\u001b[0m\u001b[0m_fit\u001b[0m\u001b[0;34m(\u001b[0m\u001b[0mX\u001b[0m\u001b[0;34m,\u001b[0m \u001b[0my\u001b[0m\u001b[0;34m,\u001b[0m \u001b[0;34m**\u001b[0m\u001b[0mfit_params_steps\u001b[0m\u001b[0;34m)\u001b[0m\u001b[0;34m\u001b[0m\u001b[0;34m\u001b[0m\u001b[0m\n\u001b[0m\u001b[1;32m    391\u001b[0m         \u001b[0;32mwith\u001b[0m \u001b[0m_print_elapsed_time\u001b[0m\u001b[0;34m(\u001b[0m\u001b[0;34m\"Pipeline\"\u001b[0m\u001b[0;34m,\u001b[0m \u001b[0mself\u001b[0m\u001b[0;34m.\u001b[0m\u001b[0m_log_message\u001b[0m\u001b[0;34m(\u001b[0m\u001b[0mlen\u001b[0m\u001b[0;34m(\u001b[0m\u001b[0mself\u001b[0m\u001b[0;34m.\u001b[0m\u001b[0msteps\u001b[0m\u001b[0;34m)\u001b[0m \u001b[0;34m-\u001b[0m \u001b[0;36m1\u001b[0m\u001b[0;34m)\u001b[0m\u001b[0;34m)\u001b[0m\u001b[0;34m:\u001b[0m\u001b[0;34m\u001b[0m\u001b[0;34m\u001b[0m\u001b[0m\n\u001b[1;32m    392\u001b[0m             \u001b[0;32mif\u001b[0m \u001b[0mself\u001b[0m\u001b[0;34m.\u001b[0m\u001b[0m_final_estimator\u001b[0m \u001b[0;34m!=\u001b[0m \u001b[0;34m\"passthrough\"\u001b[0m\u001b[0;34m:\u001b[0m\u001b[0;34m\u001b[0m\u001b[0;34m\u001b[0m\u001b[0m\n",
      "\u001b[0;32m~/miniconda3/envs/political_sentiment/lib/python3.9/site-packages/sklearn/pipeline.py\u001b[0m in \u001b[0;36m_fit\u001b[0;34m(self, X, y, **fit_params_steps)\u001b[0m\n\u001b[1;32m    346\u001b[0m                 \u001b[0mcloned_transformer\u001b[0m \u001b[0;34m=\u001b[0m \u001b[0mclone\u001b[0m\u001b[0;34m(\u001b[0m\u001b[0mtransformer\u001b[0m\u001b[0;34m)\u001b[0m\u001b[0;34m\u001b[0m\u001b[0;34m\u001b[0m\u001b[0m\n\u001b[1;32m    347\u001b[0m             \u001b[0;31m# Fit or load from cache the current transformer\u001b[0m\u001b[0;34m\u001b[0m\u001b[0;34m\u001b[0m\u001b[0m\n\u001b[0;32m--> 348\u001b[0;31m             X, fitted_transformer = fit_transform_one_cached(\n\u001b[0m\u001b[1;32m    349\u001b[0m                 \u001b[0mcloned_transformer\u001b[0m\u001b[0;34m,\u001b[0m\u001b[0;34m\u001b[0m\u001b[0;34m\u001b[0m\u001b[0m\n\u001b[1;32m    350\u001b[0m                 \u001b[0mX\u001b[0m\u001b[0;34m,\u001b[0m\u001b[0;34m\u001b[0m\u001b[0;34m\u001b[0m\u001b[0m\n",
      "\u001b[0;32m~/miniconda3/envs/political_sentiment/lib/python3.9/site-packages/joblib/memory.py\u001b[0m in \u001b[0;36m__call__\u001b[0;34m(self, *args, **kwargs)\u001b[0m\n\u001b[1;32m    347\u001b[0m \u001b[0;34m\u001b[0m\u001b[0m\n\u001b[1;32m    348\u001b[0m     \u001b[0;32mdef\u001b[0m \u001b[0m__call__\u001b[0m\u001b[0;34m(\u001b[0m\u001b[0mself\u001b[0m\u001b[0;34m,\u001b[0m \u001b[0;34m*\u001b[0m\u001b[0margs\u001b[0m\u001b[0;34m,\u001b[0m \u001b[0;34m**\u001b[0m\u001b[0mkwargs\u001b[0m\u001b[0;34m)\u001b[0m\u001b[0;34m:\u001b[0m\u001b[0;34m\u001b[0m\u001b[0;34m\u001b[0m\u001b[0m\n\u001b[0;32m--> 349\u001b[0;31m         \u001b[0;32mreturn\u001b[0m \u001b[0mself\u001b[0m\u001b[0;34m.\u001b[0m\u001b[0mfunc\u001b[0m\u001b[0;34m(\u001b[0m\u001b[0;34m*\u001b[0m\u001b[0margs\u001b[0m\u001b[0;34m,\u001b[0m \u001b[0;34m**\u001b[0m\u001b[0mkwargs\u001b[0m\u001b[0;34m)\u001b[0m\u001b[0;34m\u001b[0m\u001b[0;34m\u001b[0m\u001b[0m\n\u001b[0m\u001b[1;32m    350\u001b[0m \u001b[0;34m\u001b[0m\u001b[0m\n\u001b[1;32m    351\u001b[0m     \u001b[0;32mdef\u001b[0m \u001b[0mcall_and_shelve\u001b[0m\u001b[0;34m(\u001b[0m\u001b[0mself\u001b[0m\u001b[0;34m,\u001b[0m \u001b[0;34m*\u001b[0m\u001b[0margs\u001b[0m\u001b[0;34m,\u001b[0m \u001b[0;34m**\u001b[0m\u001b[0mkwargs\u001b[0m\u001b[0;34m)\u001b[0m\u001b[0;34m:\u001b[0m\u001b[0;34m\u001b[0m\u001b[0;34m\u001b[0m\u001b[0m\n",
      "\u001b[0;32m~/miniconda3/envs/political_sentiment/lib/python3.9/site-packages/sklearn/pipeline.py\u001b[0m in \u001b[0;36m_fit_transform_one\u001b[0;34m(transformer, X, y, weight, message_clsname, message, **fit_params)\u001b[0m\n\u001b[1;32m    891\u001b[0m     \u001b[0;32mwith\u001b[0m \u001b[0m_print_elapsed_time\u001b[0m\u001b[0;34m(\u001b[0m\u001b[0mmessage_clsname\u001b[0m\u001b[0;34m,\u001b[0m \u001b[0mmessage\u001b[0m\u001b[0;34m)\u001b[0m\u001b[0;34m:\u001b[0m\u001b[0;34m\u001b[0m\u001b[0;34m\u001b[0m\u001b[0m\n\u001b[1;32m    892\u001b[0m         \u001b[0;32mif\u001b[0m \u001b[0mhasattr\u001b[0m\u001b[0;34m(\u001b[0m\u001b[0mtransformer\u001b[0m\u001b[0;34m,\u001b[0m \u001b[0;34m\"fit_transform\"\u001b[0m\u001b[0;34m)\u001b[0m\u001b[0;34m:\u001b[0m\u001b[0;34m\u001b[0m\u001b[0;34m\u001b[0m\u001b[0m\n\u001b[0;32m--> 893\u001b[0;31m             \u001b[0mres\u001b[0m \u001b[0;34m=\u001b[0m \u001b[0mtransformer\u001b[0m\u001b[0;34m.\u001b[0m\u001b[0mfit_transform\u001b[0m\u001b[0;34m(\u001b[0m\u001b[0mX\u001b[0m\u001b[0;34m,\u001b[0m \u001b[0my\u001b[0m\u001b[0;34m,\u001b[0m \u001b[0;34m**\u001b[0m\u001b[0mfit_params\u001b[0m\u001b[0;34m)\u001b[0m\u001b[0;34m\u001b[0m\u001b[0;34m\u001b[0m\u001b[0m\n\u001b[0m\u001b[1;32m    894\u001b[0m         \u001b[0;32melse\u001b[0m\u001b[0;34m:\u001b[0m\u001b[0;34m\u001b[0m\u001b[0;34m\u001b[0m\u001b[0m\n\u001b[1;32m    895\u001b[0m             \u001b[0mres\u001b[0m \u001b[0;34m=\u001b[0m \u001b[0mtransformer\u001b[0m\u001b[0;34m.\u001b[0m\u001b[0mfit\u001b[0m\u001b[0;34m(\u001b[0m\u001b[0mX\u001b[0m\u001b[0;34m,\u001b[0m \u001b[0my\u001b[0m\u001b[0;34m,\u001b[0m \u001b[0;34m**\u001b[0m\u001b[0mfit_params\u001b[0m\u001b[0;34m)\u001b[0m\u001b[0;34m.\u001b[0m\u001b[0mtransform\u001b[0m\u001b[0;34m(\u001b[0m\u001b[0mX\u001b[0m\u001b[0;34m)\u001b[0m\u001b[0;34m\u001b[0m\u001b[0;34m\u001b[0m\u001b[0m\n",
      "\u001b[0;32m~/miniconda3/envs/political_sentiment/lib/python3.9/site-packages/sklearn/base.py\u001b[0m in \u001b[0;36mfit_transform\u001b[0;34m(self, X, y, **fit_params)\u001b[0m\n\u001b[1;32m    853\u001b[0m         \u001b[0;32melse\u001b[0m\u001b[0;34m:\u001b[0m\u001b[0;34m\u001b[0m\u001b[0;34m\u001b[0m\u001b[0m\n\u001b[1;32m    854\u001b[0m             \u001b[0;31m# fit method of arity 2 (supervised transformation)\u001b[0m\u001b[0;34m\u001b[0m\u001b[0;34m\u001b[0m\u001b[0m\n\u001b[0;32m--> 855\u001b[0;31m             \u001b[0;32mreturn\u001b[0m \u001b[0mself\u001b[0m\u001b[0;34m.\u001b[0m\u001b[0mfit\u001b[0m\u001b[0;34m(\u001b[0m\u001b[0mX\u001b[0m\u001b[0;34m,\u001b[0m \u001b[0my\u001b[0m\u001b[0;34m,\u001b[0m \u001b[0;34m**\u001b[0m\u001b[0mfit_params\u001b[0m\u001b[0;34m)\u001b[0m\u001b[0;34m.\u001b[0m\u001b[0mtransform\u001b[0m\u001b[0;34m(\u001b[0m\u001b[0mX\u001b[0m\u001b[0;34m)\u001b[0m\u001b[0;34m\u001b[0m\u001b[0;34m\u001b[0m\u001b[0m\n\u001b[0m\u001b[1;32m    856\u001b[0m \u001b[0;34m\u001b[0m\u001b[0m\n\u001b[1;32m    857\u001b[0m \u001b[0;34m\u001b[0m\u001b[0m\n",
      "\u001b[0;32m~/miniconda3/envs/political_sentiment/lib/python3.9/site-packages/sklearn/preprocessing/_data.py\u001b[0m in \u001b[0;36mfit\u001b[0;34m(self, X, y, sample_weight)\u001b[0m\n\u001b[1;32m    804\u001b[0m         \u001b[0;31m# Reset internal state before fitting\u001b[0m\u001b[0;34m\u001b[0m\u001b[0;34m\u001b[0m\u001b[0m\n\u001b[1;32m    805\u001b[0m         \u001b[0mself\u001b[0m\u001b[0;34m.\u001b[0m\u001b[0m_reset\u001b[0m\u001b[0;34m(\u001b[0m\u001b[0;34m)\u001b[0m\u001b[0;34m\u001b[0m\u001b[0;34m\u001b[0m\u001b[0m\n\u001b[0;32m--> 806\u001b[0;31m         \u001b[0;32mreturn\u001b[0m \u001b[0mself\u001b[0m\u001b[0;34m.\u001b[0m\u001b[0mpartial_fit\u001b[0m\u001b[0;34m(\u001b[0m\u001b[0mX\u001b[0m\u001b[0;34m,\u001b[0m \u001b[0my\u001b[0m\u001b[0;34m,\u001b[0m \u001b[0msample_weight\u001b[0m\u001b[0;34m)\u001b[0m\u001b[0;34m\u001b[0m\u001b[0;34m\u001b[0m\u001b[0m\n\u001b[0m\u001b[1;32m    807\u001b[0m \u001b[0;34m\u001b[0m\u001b[0m\n\u001b[1;32m    808\u001b[0m     \u001b[0;32mdef\u001b[0m \u001b[0mpartial_fit\u001b[0m\u001b[0;34m(\u001b[0m\u001b[0mself\u001b[0m\u001b[0;34m,\u001b[0m \u001b[0mX\u001b[0m\u001b[0;34m,\u001b[0m \u001b[0my\u001b[0m\u001b[0;34m=\u001b[0m\u001b[0;32mNone\u001b[0m\u001b[0;34m,\u001b[0m \u001b[0msample_weight\u001b[0m\u001b[0;34m=\u001b[0m\u001b[0;32mNone\u001b[0m\u001b[0;34m)\u001b[0m\u001b[0;34m:\u001b[0m\u001b[0;34m\u001b[0m\u001b[0;34m\u001b[0m\u001b[0m\n",
      "\u001b[0;32m~/miniconda3/envs/political_sentiment/lib/python3.9/site-packages/sklearn/preprocessing/_data.py\u001b[0m in \u001b[0;36mpartial_fit\u001b[0;34m(self, X, y, sample_weight)\u001b[0m\n\u001b[1;32m    868\u001b[0m         \u001b[0;32mif\u001b[0m \u001b[0msparse\u001b[0m\u001b[0;34m.\u001b[0m\u001b[0missparse\u001b[0m\u001b[0;34m(\u001b[0m\u001b[0mX\u001b[0m\u001b[0;34m)\u001b[0m\u001b[0;34m:\u001b[0m\u001b[0;34m\u001b[0m\u001b[0;34m\u001b[0m\u001b[0m\n\u001b[1;32m    869\u001b[0m             \u001b[0;32mif\u001b[0m \u001b[0mself\u001b[0m\u001b[0;34m.\u001b[0m\u001b[0mwith_mean\u001b[0m\u001b[0;34m:\u001b[0m\u001b[0;34m\u001b[0m\u001b[0;34m\u001b[0m\u001b[0m\n\u001b[0;32m--> 870\u001b[0;31m                 raise ValueError(\n\u001b[0m\u001b[1;32m    871\u001b[0m                     \u001b[0;34m\"Cannot center sparse matrices: pass `with_mean=False` \"\u001b[0m\u001b[0;34m\u001b[0m\u001b[0;34m\u001b[0m\u001b[0m\n\u001b[1;32m    872\u001b[0m                     \u001b[0;34m\"instead. See docstring for motivation and alternatives.\"\u001b[0m\u001b[0;34m\u001b[0m\u001b[0;34m\u001b[0m\u001b[0m\n",
      "\u001b[0;31mValueError\u001b[0m: Cannot center sparse matrices: pass `with_mean=False` instead. See docstring for motivation and alternatives."
     ]
    }
   ],
   "source": [
    "log_search.fit(x_train, y_train)"
   ]
  },
  {
   "cell_type": "code",
   "execution_count": null,
   "id": "aec43fac",
   "metadata": {},
   "outputs": [],
   "source": [
    "print(\"Best parameter (CV score=%0.3f):\" % log_search.best_score_)\n",
    "print(log_search.best_params_)"
   ]
  },
  {
   "cell_type": "code",
   "execution_count": null,
   "id": "3c2d84e0",
   "metadata": {},
   "outputs": [],
   "source": [
    "log_grid_search_res = pd.DataFrame(log_search.cv_results_)\n",
    "\n",
    "bi.blosc_pickle(log_grid_search_res, \"./data/log_grid_search_result.dat\")"
   ]
  }
 ],
 "metadata": {
  "kernelspec": {
   "display_name": "Python 3 (ipykernel)",
   "language": "python",
   "name": "python3"
  },
  "language_info": {
   "codemirror_mode": {
    "name": "ipython",
    "version": 3
   },
   "file_extension": ".py",
   "mimetype": "text/x-python",
   "name": "python",
   "nbconvert_exporter": "python",
   "pygments_lexer": "ipython3",
   "version": "3.9.15"
  },
  "vscode": {
   "interpreter": {
    "hash": "6e38ea1e5deeed82a3b294ec323014828b987cd6fe46463ab21a833d1705cc24"
   }
  }
 },
 "nbformat": 4,
 "nbformat_minor": 5
}
