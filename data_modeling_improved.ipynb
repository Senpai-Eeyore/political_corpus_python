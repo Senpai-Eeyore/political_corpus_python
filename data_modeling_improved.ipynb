{
 "cells": [
  {
   "cell_type": "code",
   "execution_count": 2,
   "id": "3ef77e17-aab2-426c-b246-5f4a60cd271a",
   "metadata": {},
   "outputs": [],
   "source": [
    "import pandas as pd\n",
    "import numpy as np\n",
    "import scripts.data_pull as dp\n",
    "import scripts.preprocess_text as ppt\n",
    "import scripts.blosc_interface as bi"
   ]
  },
  {
   "attachments": {},
   "cell_type": "markdown",
   "metadata": {
    "collapsed": false
   },
   "source": [
    "https://stackoverflow.com/questions/26826002/adding-words-to-stop-words-list-in-tfidfvectorizer-in-sklearn\n",
    "https://stackoverflow.com/questions/50756085/how-to-print-the-progress-of-a-list-comprehension-in-python\n",
    "https://stackoverflow.com/questions/57983431/whats-the-most-space-efficient-way-to-compress-serialized-python-data"
   ]
  },
  {
   "cell_type": "code",
   "execution_count": 3,
   "id": "968d3a9b",
   "metadata": {},
   "outputs": [],
   "source": [
    "tokenized_corpus = bi.blosc_read(\"./data/tokenized_corpus.dat\")"
   ]
  },
  {
   "cell_type": "code",
   "execution_count": 4,
   "id": "10d8ddc6",
   "metadata": {},
   "outputs": [
    {
     "data": {
      "text/html": [
       "<div>\n",
       "<style scoped>\n",
       "    .dataframe tbody tr th:only-of-type {\n",
       "        vertical-align: middle;\n",
       "    }\n",
       "\n",
       "    .dataframe tbody tr th {\n",
       "        vertical-align: top;\n",
       "    }\n",
       "\n",
       "    .dataframe thead th {\n",
       "        text-align: right;\n",
       "    }\n",
       "</style>\n",
       "<table border=\"1\" class=\"dataframe\">\n",
       "  <thead>\n",
       "    <tr style=\"text-align: right;\">\n",
       "      <th></th>\n",
       "      <th>art_title</th>\n",
       "      <th>art_author</th>\n",
       "      <th>art_date</th>\n",
       "      <th>art_topic</th>\n",
       "      <th>art_link</th>\n",
       "      <th>art_source</th>\n",
       "      <th>text</th>\n",
       "      <th>art_bias</th>\n",
       "      <th>stemmed_tokens</th>\n",
       "      <th>text_tokens</th>\n",
       "      <th>tokens</th>\n",
       "      <th>stems</th>\n",
       "      <th>text_lem</th>\n",
       "    </tr>\n",
       "  </thead>\n",
       "  <tbody>\n",
       "    <tr>\n",
       "      <th>0</th>\n",
       "      <td>The emerging markets e-commerce opportunity</td>\n",
       "      <td>Christoph Ungerer</td>\n",
       "      <td>2021-03-26</td>\n",
       "      <td>future-development</td>\n",
       "      <td>https://www.brookings.edu/blog/future-developm...</td>\n",
       "      <td>Brookings Institute</td>\n",
       "      <td>while e-commerce giants such as amazon dominat...</td>\n",
       "      <td>left-wing</td>\n",
       "      <td>[e-commerc, giant, amazon, domin, headlin, cov...</td>\n",
       "      <td>[e-commerce, giants, amazon, dominate, headlin...</td>\n",
       "      <td>e-commerce,giants,amazon,dominate,headlines,co...</td>\n",
       "      <td>e-commerc,giant,amazon,domin,headlin,covid-19,...</td>\n",
       "      <td>e-commerce,giants,amazon,dominate,headlines,co...</td>\n",
       "    </tr>\n",
       "    <tr>\n",
       "      <th>1</th>\n",
       "      <td>\"1619\" Pulitzer Will Boost Socialist Teaching ...</td>\n",
       "      <td>Mike Gonzalez</td>\n",
       "      <td>2020-05-11</td>\n",
       "      <td>education</td>\n",
       "      <td>https://www.heritage.org/education/commentary/...</td>\n",
       "      <td>Heritage Commentary</td>\n",
       "      <td>the pulitzer prize board this week awarded its...</td>\n",
       "      <td>right-wing</td>\n",
       "      <td>[pulitz, prize, board, week, award, commentari...</td>\n",
       "      <td>[pulitzer, prize, board, week, awarded, commen...</td>\n",
       "      <td>pulitzer,prize,board,week,awarded,commentary,a...</td>\n",
       "      <td>pulitz,prize,board,week,award,commentari,award...</td>\n",
       "      <td>pulitzer,prize,board,week,awarded,commentary,a...</td>\n",
       "    </tr>\n",
       "    <tr>\n",
       "      <th>2</th>\n",
       "      <td>\"1983\" and \"The Brink\" Review: The Most Danger...</td>\n",
       "      <td>Lee Edwards, Ph.D.</td>\n",
       "      <td>2018-08-10</td>\n",
       "      <td>defense</td>\n",
       "      <td>https://www.heritage.org/defense/commentary/19...</td>\n",
       "      <td>Heritage Commentary</td>\n",
       "      <td>most historians agree that the world came clos...</td>\n",
       "      <td>right-wing</td>\n",
       "      <td>[historian, agre, world, came, closest, nuclea...</td>\n",
       "      <td>[historians, agree, world, came, closest, nucl...</td>\n",
       "      <td>historians,agree,world,came,closest,nuclear,wa...</td>\n",
       "      <td>historian,agre,world,came,closest,nuclear,war,...</td>\n",
       "      <td>historians,agree,world,came,closest,nuclear,wa...</td>\n",
       "    </tr>\n",
       "    <tr>\n",
       "      <th>3</th>\n",
       "      <td>\"60 Minutes\" Snubs the Facts on Education</td>\n",
       "      <td>Jonathan Butcher</td>\n",
       "      <td>2018-03-13</td>\n",
       "      <td>education</td>\n",
       "      <td>https://www.heritage.org/education/commentary/...</td>\n",
       "      <td>Heritage Commentary</td>\n",
       "      <td>beth richardson is committed to her son’s succ...</td>\n",
       "      <td>right-wing</td>\n",
       "      <td>[beth, richardson, commit, son, success, expec...</td>\n",
       "      <td>[beth, richardson, committed, son, success, ex...</td>\n",
       "      <td>beth,richardson,committed,son,success,expected...</td>\n",
       "      <td>beth,richardson,commit,son,success,expect,jed,...</td>\n",
       "      <td>beth,richardson,committed,son,success,expected...</td>\n",
       "    </tr>\n",
       "    <tr>\n",
       "      <th>4</th>\n",
       "      <td>\"As Israel and the Arabs Battle, Moscow Collec...</td>\n",
       "      <td>James Phillips</td>\n",
       "      <td>1983-09-20</td>\n",
       "      <td>europe</td>\n",
       "      <td>https://www.heritage.org/europe/report/israel-...</td>\n",
       "      <td>Heritage Report</td>\n",
       "      <td>i i 291 september 20, 1983 as israel and the a...</td>\n",
       "      <td>right-wing</td>\n",
       "      <td>[septemb, israel, arab, ban4, moscow, collect,...</td>\n",
       "      <td>[september, israel, arabs, ban4, moscow, colle...</td>\n",
       "      <td>september,israel,arabs,ban4,moscow,collects,di...</td>\n",
       "      <td>septemb,israel,arab,ban4,moscow,collect,divide...</td>\n",
       "      <td>september,israel,arabs,ban4,moscow,collects,di...</td>\n",
       "    </tr>\n",
       "  </tbody>\n",
       "</table>\n",
       "</div>"
      ],
      "text/plain": [
       "                                           art_title          art_author  \\\n",
       "0        The emerging markets e-commerce opportunity   Christoph Ungerer   \n",
       "1  \"1619\" Pulitzer Will Boost Socialist Teaching ...       Mike Gonzalez   \n",
       "2  \"1983\" and \"The Brink\" Review: The Most Danger...  Lee Edwards, Ph.D.   \n",
       "3          \"60 Minutes\" Snubs the Facts on Education    Jonathan Butcher   \n",
       "4  \"As Israel and the Arabs Battle, Moscow Collec...      James Phillips   \n",
       "\n",
       "    art_date           art_topic  \\\n",
       "0 2021-03-26  future-development   \n",
       "1 2020-05-11           education   \n",
       "2 2018-08-10             defense   \n",
       "3 2018-03-13           education   \n",
       "4 1983-09-20              europe   \n",
       "\n",
       "                                            art_link           art_source  \\\n",
       "0  https://www.brookings.edu/blog/future-developm...  Brookings Institute   \n",
       "1  https://www.heritage.org/education/commentary/...  Heritage Commentary   \n",
       "2  https://www.heritage.org/defense/commentary/19...  Heritage Commentary   \n",
       "3  https://www.heritage.org/education/commentary/...  Heritage Commentary   \n",
       "4  https://www.heritage.org/europe/report/israel-...      Heritage Report   \n",
       "\n",
       "                                                text    art_bias  \\\n",
       "0  while e-commerce giants such as amazon dominat...   left-wing   \n",
       "1  the pulitzer prize board this week awarded its...  right-wing   \n",
       "2  most historians agree that the world came clos...  right-wing   \n",
       "3  beth richardson is committed to her son’s succ...  right-wing   \n",
       "4  i i 291 september 20, 1983 as israel and the a...  right-wing   \n",
       "\n",
       "                                      stemmed_tokens  \\\n",
       "0  [e-commerc, giant, amazon, domin, headlin, cov...   \n",
       "1  [pulitz, prize, board, week, award, commentari...   \n",
       "2  [historian, agre, world, came, closest, nuclea...   \n",
       "3  [beth, richardson, commit, son, success, expec...   \n",
       "4  [septemb, israel, arab, ban4, moscow, collect,...   \n",
       "\n",
       "                                         text_tokens  \\\n",
       "0  [e-commerce, giants, amazon, dominate, headlin...   \n",
       "1  [pulitzer, prize, board, week, awarded, commen...   \n",
       "2  [historians, agree, world, came, closest, nucl...   \n",
       "3  [beth, richardson, committed, son, success, ex...   \n",
       "4  [september, israel, arabs, ban4, moscow, colle...   \n",
       "\n",
       "                                              tokens  \\\n",
       "0  e-commerce,giants,amazon,dominate,headlines,co...   \n",
       "1  pulitzer,prize,board,week,awarded,commentary,a...   \n",
       "2  historians,agree,world,came,closest,nuclear,wa...   \n",
       "3  beth,richardson,committed,son,success,expected...   \n",
       "4  september,israel,arabs,ban4,moscow,collects,di...   \n",
       "\n",
       "                                               stems  \\\n",
       "0  e-commerc,giant,amazon,domin,headlin,covid-19,...   \n",
       "1  pulitz,prize,board,week,award,commentari,award...   \n",
       "2  historian,agre,world,came,closest,nuclear,war,...   \n",
       "3  beth,richardson,commit,son,success,expect,jed,...   \n",
       "4  septemb,israel,arab,ban4,moscow,collect,divide...   \n",
       "\n",
       "                                            text_lem  \n",
       "0  e-commerce,giants,amazon,dominate,headlines,co...  \n",
       "1  pulitzer,prize,board,week,awarded,commentary,a...  \n",
       "2  historians,agree,world,came,closest,nuclear,wa...  \n",
       "3  beth,richardson,committed,son,success,expected...  \n",
       "4  september,israel,arabs,ban4,moscow,collects,di...  "
      ]
     },
     "execution_count": 4,
     "metadata": {},
     "output_type": "execute_result"
    }
   ],
   "source": [
    "tokenized_corpus.head()"
   ]
  },
  {
   "cell_type": "code",
   "execution_count": 22,
   "id": "54028ae8",
   "metadata": {},
   "outputs": [],
   "source": [
    "count_vect = bi.blosc_read(\"./data/count_vect.dat\")\n",
    "tfidf_vect = bi.blosc_read(\"./data/tfidf_vect.dat\")"
   ]
  },
  {
   "cell_type": "code",
   "execution_count": 23,
   "id": "38cac064",
   "metadata": {},
   "outputs": [
    {
     "data": {
      "text/plain": [
       "array(['$', \"''\", \"'s\", '(', ')', ',', '.', ':', ';', '?', '[', ']', '``',\n",
       "       'act', 'action', 'administr', 'allow', 'also', 'america',\n",
       "       'american', 'among', 'author', 'back', 'base', 'becom', 'benefit',\n",
       "       'biden', 'bill', 'billion', 'budget', 'busi', 'call', 'campaign',\n",
       "       'capit', 'care', 'case', 'chang', 'china', 'citi', 'come',\n",
       "       'commun', 'compani', 'congress', 'constitut', 'continu', 'control',\n",
       "       'cost', 'could', 'countri', 'court', 'creat', 'current', 'day',\n",
       "       'defens', 'democrat', 'develop', 'differ', 'econom', 'economi',\n",
       "       'educ', 'effect', 'effort', 'elect', 'employ', 'end', 'even',\n",
       "       'exampl', 'fact', 'famili', 'feder', 'first', 'forc', 'fund',\n",
       "       'gener', 'get', 'go', 'good', 'govern', 'group', 'health', 'help',\n",
       "       'hous', 'howev', 'human', 'import', 'includ', 'incom', 'increas',\n",
       "       'individu', 'industri', 'institut', 'interest', 'intern', 'invest',\n",
       "       'issu', 'job', 'labor', 'last', 'law', 'left', 'less', 'level',\n",
       "       'like', 'limit', 'live', 'local', 'made', 'major', 'make', 'mani',\n",
       "       'market', 'may', 'mean', 'member', 'militari', 'million',\n",
       "       'movement', 'much', 'must', 'nation', 'need', 'new', 'number',\n",
       "       'offic', 'one', 'oper', 'organ', 'part', 'parti', 'pay', 'peopl',\n",
       "       'percent', 'place', 'plan', 'point', 'polici', 'polit', 'power',\n",
       "       'presid', 'privat', 'problem', 'process', 'product', 'program',\n",
       "       'propos', 'protect', 'provid', 'public', 'question', 'rate',\n",
       "       'recent', 'reform', 'remain', 'report', 'requir', 'respons',\n",
       "       'result', 'right', 'rule', 'say', 'school', 'secur', 'see',\n",
       "       'senat', 'servic', 'sinc', 'social', 'spend', 'state', 'still',\n",
       "       'student', 'support', 'system', 'take', 'tax', 'think', 'time',\n",
       "       'trade', 'trump', 'two', 'u.s.', 'union', 'unit', 'us', 'use',\n",
       "       'vote', 'want', 'war', 'way', 'well', 'without', 'work', 'worker',\n",
       "       'world', 'would', 'year', '—', '’', '“', '”'], dtype=object)"
      ]
     },
     "execution_count": 23,
     "metadata": {},
     "output_type": "execute_result"
    }
   ],
   "source": [
    "count_vect.get_feature_names_out()"
   ]
  },
  {
   "cell_type": "code",
   "execution_count": 24,
   "metadata": {
    "collapsed": false
   },
   "outputs": [],
   "source": [
    "x_train = bi.blosc_read(\"./data/corpus_tfidf_vectorized_train.dat\")\n",
    "\n",
    "x_test = bi.blosc_read(\"./data/corpus_tfidf_vectorized_test.dat\")"
   ]
  },
  {
   "cell_type": "code",
   "execution_count": 25,
   "id": "fbbe9466",
   "metadata": {},
   "outputs": [],
   "source": [
    "y_train = bi.blosc_read(\"./data/corpus_bias_train.dat\")\n",
    "\n",
    "y_test = bi.blosc_read(\"./data/corpus_bias_test.dat\")"
   ]
  },
  {
   "cell_type": "code",
   "execution_count": null,
   "id": "592529ae",
   "metadata": {},
   "outputs": [],
   "source": [
    "from sklearn.feature_extraction.text import TfidfTransformer\n",
    "tfidf_vect = TfidfTransformer()\n",
    "\n",
    "x_train_tfidf = tfidf_vect.fit_transform(x_train)\n",
    "x_test_tfidf = tfidf_vect.fit_transform(x_test)"
   ]
  },
  {
   "cell_type": "code",
   "execution_count": 26,
   "metadata": {
    "collapsed": false
   },
   "outputs": [],
   "source": [
    "from sklearn.linear_model import LogisticRegression\n",
    "\n",
    "log_reg_clf = LogisticRegression()"
   ]
  },
  {
   "cell_type": "code",
   "execution_count": 27,
   "metadata": {
    "collapsed": false
   },
   "outputs": [
    {
     "data": {
      "text/plain": [
       "LogisticRegression()"
      ]
     },
     "execution_count": 27,
     "metadata": {},
     "output_type": "execute_result"
    }
   ],
   "source": [
    "log_reg_clf.fit(x_train, y_train)"
   ]
  },
  {
   "cell_type": "code",
   "execution_count": 28,
   "metadata": {
    "collapsed": false
   },
   "outputs": [
    {
     "data": {
      "text/plain": [
       "0.8168658088235294"
      ]
     },
     "execution_count": 28,
     "metadata": {},
     "output_type": "execute_result"
    }
   ],
   "source": [
    "predicted = log_reg_clf.predict(x_test)\n",
    "np.mean(predicted == y_test)"
   ]
  },
  {
   "cell_type": "code",
   "execution_count": 29,
   "metadata": {
    "collapsed": false
   },
   "outputs": [
    {
     "name": "stdout",
     "output_type": "stream",
     "text": [
      "              precision    recall  f1-score   support\n",
      "\n",
      "   left-wing       0.83      0.78      0.80      2097\n",
      "  right-wing       0.80      0.86      0.83      2255\n",
      "\n",
      "    accuracy                           0.82      4352\n",
      "   macro avg       0.82      0.82      0.82      4352\n",
      "weighted avg       0.82      0.82      0.82      4352\n",
      "\n"
     ]
    }
   ],
   "source": [
    "from sklearn import metrics\n",
    "print(metrics.classification_report(y_test, predicted))"
   ]
  },
  {
   "cell_type": "code",
   "execution_count": 10,
   "metadata": {
    "collapsed": false
   },
   "outputs": [
    {
     "data": {
      "text/plain": [
       "array([[1656,  441],\n",
       "       [ 273, 1982]])"
      ]
     },
     "execution_count": 10,
     "metadata": {},
     "output_type": "execute_result"
    }
   ],
   "source": [
    "metrics.confusion_matrix(y_test, predicted)"
   ]
  },
  {
   "cell_type": "code",
   "execution_count": 30,
   "metadata": {
    "collapsed": false
   },
   "outputs": [],
   "source": [
    "coef_values = pd.DataFrame(log_reg_clf.coef_, columns=count_vect.get_feature_names_out())"
   ]
  },
  {
   "cell_type": "code",
   "execution_count": 31,
   "metadata": {
    "collapsed": false
   },
   "outputs": [
    {
     "data": {
      "text/html": [
       "<div>\n",
       "<style scoped>\n",
       "    .dataframe tbody tr th:only-of-type {\n",
       "        vertical-align: middle;\n",
       "    }\n",
       "\n",
       "    .dataframe tbody tr th {\n",
       "        vertical-align: top;\n",
       "    }\n",
       "\n",
       "    .dataframe thead th {\n",
       "        text-align: right;\n",
       "    }\n",
       "</style>\n",
       "<table border=\"1\" class=\"dataframe\">\n",
       "  <thead>\n",
       "    <tr style=\"text-align: right;\">\n",
       "      <th></th>\n",
       "      <th>$</th>\n",
       "      <th>''</th>\n",
       "      <th>'s</th>\n",
       "      <th>(</th>\n",
       "      <th>)</th>\n",
       "      <th>,</th>\n",
       "      <th>.</th>\n",
       "      <th>:</th>\n",
       "      <th>;</th>\n",
       "      <th>?</th>\n",
       "      <th>...</th>\n",
       "      <th>without</th>\n",
       "      <th>work</th>\n",
       "      <th>worker</th>\n",
       "      <th>world</th>\n",
       "      <th>would</th>\n",
       "      <th>year</th>\n",
       "      <th>—</th>\n",
       "      <th>’</th>\n",
       "      <th>“</th>\n",
       "      <th>”</th>\n",
       "    </tr>\n",
       "  </thead>\n",
       "  <tbody>\n",
       "    <tr>\n",
       "      <th>0</th>\n",
       "      <td>0.536189</td>\n",
       "      <td>4.448389</td>\n",
       "      <td>8.424073</td>\n",
       "      <td>-2.549232</td>\n",
       "      <td>-2.394622</td>\n",
       "      <td>-1.783803</td>\n",
       "      <td>2.707115</td>\n",
       "      <td>-1.196809</td>\n",
       "      <td>-1.617017</td>\n",
       "      <td>1.425718</td>\n",
       "      <td>...</td>\n",
       "      <td>0.370157</td>\n",
       "      <td>-2.502709</td>\n",
       "      <td>-3.537142</td>\n",
       "      <td>-0.004656</td>\n",
       "      <td>2.65586</td>\n",
       "      <td>-0.102624</td>\n",
       "      <td>-15.382753</td>\n",
       "      <td>-1.495565</td>\n",
       "      <td>1.457116</td>\n",
       "      <td>2.238521</td>\n",
       "    </tr>\n",
       "  </tbody>\n",
       "</table>\n",
       "<p>1 rows × 200 columns</p>\n",
       "</div>"
      ],
      "text/plain": [
       "          $        ''        's         (         )         ,         .  \\\n",
       "0  0.536189  4.448389  8.424073 -2.549232 -2.394622 -1.783803  2.707115   \n",
       "\n",
       "          :         ;         ?  ...   without      work    worker     world  \\\n",
       "0 -1.196809 -1.617017  1.425718  ...  0.370157 -2.502709 -3.537142 -0.004656   \n",
       "\n",
       "     would      year          —         ’         “         ”  \n",
       "0  2.65586 -0.102624 -15.382753 -1.495565  1.457116  2.238521  \n",
       "\n",
       "[1 rows x 200 columns]"
      ]
     },
     "execution_count": 31,
     "metadata": {},
     "output_type": "execute_result"
    }
   ],
   "source": [
    "coef_values.head()"
   ]
  },
  {
   "cell_type": "code",
   "execution_count": 15,
   "metadata": {
    "collapsed": false
   },
   "outputs": [
    {
     "data": {
      "text/plain": [
       "{'norm': 'l2', 'smooth_idf': True, 'sublinear_tf': False, 'use_idf': True}"
      ]
     },
     "execution_count": 15,
     "metadata": {},
     "output_type": "execute_result"
    }
   ],
   "source": [
    "tfidf_vect.get_params()"
   ]
  },
  {
   "cell_type": "code",
   "execution_count": 32,
   "id": "b5a68604",
   "metadata": {},
   "outputs": [
    {
     "data": {
      "text/plain": [
       "SGDClassifier(alpha=0.001, max_iter=5, random_state=42, tol=None)"
      ]
     },
     "execution_count": 32,
     "metadata": {},
     "output_type": "execute_result"
    }
   ],
   "source": [
    "from sklearn.linear_model import SGDClassifier\n",
    "\n",
    "sgd_clf = SGDClassifier(loss='hinge', penalty='l2',\n",
    "                           alpha=1e-3, random_state=42,\n",
    "                           max_iter=5, tol=None)\n",
    "\n",
    "sgd_clf.fit(x_train, y_train)"
   ]
  },
  {
   "cell_type": "code",
   "execution_count": 33,
   "id": "5f4623cb",
   "metadata": {},
   "outputs": [
    {
     "data": {
      "text/plain": [
       "0.8295036764705882"
      ]
     },
     "execution_count": 33,
     "metadata": {},
     "output_type": "execute_result"
    }
   ],
   "source": [
    "sgd_predict = sgd_clf.predict(x_test)\n",
    "np.mean(sgd_predict == y_test)"
   ]
  },
  {
   "cell_type": "code",
   "execution_count": 34,
   "id": "5eff70a8",
   "metadata": {},
   "outputs": [
    {
     "name": "stdout",
     "output_type": "stream",
     "text": [
      "              precision    recall  f1-score   support\n",
      "\n",
      "   left-wing       0.84      0.80      0.82      2097\n",
      "  right-wing       0.82      0.85      0.84      2255\n",
      "\n",
      "    accuracy                           0.83      4352\n",
      "   macro avg       0.83      0.83      0.83      4352\n",
      "weighted avg       0.83      0.83      0.83      4352\n",
      "\n"
     ]
    }
   ],
   "source": [
    "print(metrics.classification_report(y_test, sgd_predict))"
   ]
  },
  {
   "cell_type": "code",
   "execution_count": 36,
   "id": "5b7eda09",
   "metadata": {},
   "outputs": [
    {
     "data": {
      "text/plain": [
       "array([[1688,  409],\n",
       "       [ 333, 1922]])"
      ]
     },
     "execution_count": 36,
     "metadata": {},
     "output_type": "execute_result"
    }
   ],
   "source": [
    "metrics.confusion_matrix(y_test, sgd_predict)"
   ]
  },
  {
   "cell_type": "code",
   "execution_count": 37,
   "id": "e97c13b7",
   "metadata": {},
   "outputs": [
    {
     "data": {
      "text/plain": [
       "DecisionTreeClassifier()"
      ]
     },
     "execution_count": 37,
     "metadata": {},
     "output_type": "execute_result"
    }
   ],
   "source": [
    "from sklearn import tree\n",
    "\n",
    "tree_clf = tree.DecisionTreeClassifier()\n",
    "\n",
    "tree_clf.fit(x_train, y_train)"
   ]
  },
  {
   "cell_type": "code",
   "execution_count": 38,
   "id": "eac54a5e",
   "metadata": {},
   "outputs": [
    {
     "data": {
      "text/plain": [
       "0.7842371323529411"
      ]
     },
     "execution_count": 38,
     "metadata": {},
     "output_type": "execute_result"
    }
   ],
   "source": [
    "tree_predict = tree_clf.predict(x_test)\n",
    "np.mean(tree_predict == y_test)"
   ]
  },
  {
   "cell_type": "code",
   "execution_count": 52,
   "id": "c4ed7c16",
   "metadata": {},
   "outputs": [],
   "source": [
    "from sklearn.neural_network import MLPClassifier\n",
    "\n",
    "nn_clf = MLPClassifier(alpha=1e-5, random_state=1, hidden_layer_sizes=(100, 10), solver=\"sgd\", max_iter=1000)"
   ]
  },
  {
   "cell_type": "code",
   "execution_count": 53,
   "id": "14534e39",
   "metadata": {},
   "outputs": [
    {
     "name": "stderr",
     "output_type": "stream",
     "text": [
      "/home/keenans/miniconda3/envs/political_sentiment/lib/python3.9/site-packages/sklearn/neural_network/_multilayer_perceptron.py:692: ConvergenceWarning: Stochastic Optimizer: Maximum iterations (1000) reached and the optimization hasn't converged yet.\n",
      "  warnings.warn(\n"
     ]
    },
    {
     "data": {
      "text/plain": [
       "MLPClassifier(alpha=1e-05, hidden_layer_sizes=(100, 10), max_iter=1000,\n",
       "              random_state=1, solver='sgd')"
      ]
     },
     "execution_count": 53,
     "metadata": {},
     "output_type": "execute_result"
    }
   ],
   "source": [
    "nn_clf.fit(x_train, y_train)"
   ]
  },
  {
   "cell_type": "code",
   "execution_count": 54,
   "id": "e81f3b65",
   "metadata": {},
   "outputs": [
    {
     "data": {
      "text/plain": [
       "0.8150275735294118"
      ]
     },
     "execution_count": 54,
     "metadata": {},
     "output_type": "execute_result"
    }
   ],
   "source": [
    "nn_predict = nn_clf.predict(x_test)\n",
    "np.mean(nn_predict == y_test)"
   ]
  }
 ],
 "metadata": {
  "kernelspec": {
   "display_name": "political_sentiment",
   "language": "python",
   "name": "python3"
  },
  "language_info": {
   "codemirror_mode": {
    "name": "ipython",
    "version": 3
   },
   "file_extension": ".py",
   "mimetype": "text/x-python",
   "name": "python",
   "nbconvert_exporter": "python",
   "pygments_lexer": "ipython3",
   "version": "3.9.15"
  },
  "vscode": {
   "interpreter": {
    "hash": "6e38ea1e5deeed82a3b294ec323014828b987cd6fe46463ab21a833d1705cc24"
   }
  }
 },
 "nbformat": 4,
 "nbformat_minor": 5
}
