{
 "cells": [
  {
   "cell_type": "markdown",
   "metadata": {},
   "source": [
    "https://stackoverflow.com/questions/23704510/how-do-i-test-whether-an-nltk-resource-is-already-installed-on-the-machine-runni"
   ]
  },
  {
   "cell_type": "code",
   "execution_count": 20,
   "metadata": {},
   "outputs": [],
   "source": [
    "import pandas as pd\n",
    "import nltk\n",
    "\n",
    "import scripts.data_pull as data_pull\n",
    "import scripts.data_store as data_store\n",
    "\n",
    "import spacy\n",
    "nlp = spacy.load(\"en_core_web_sm\")\n",
    "\n",
    "def bias_assignment(art_source):\n",
    "    assert isinstance(art_source, str)\n",
    "    left = [\"Jacobin\", \"Brookings Institute\"]\n",
    "    right = ['Heritage Commentary', 'Heritage Report', 'American Mind']\n",
    "    if art_source in left:\n",
    "        return \"left-wing\"\n",
    "    else:\n",
    "        return \"right-wing\""
   ]
  },
  {
   "cell_type": "code",
   "execution_count": 21,
   "metadata": {},
   "outputs": [],
   "source": [
    "full_corpus = data_pull.data_pull('combined_corpus')"
   ]
  },
  {
   "cell_type": "code",
   "execution_count": 22,
   "metadata": {},
   "outputs": [],
   "source": [
    "full_corpus['text'] = full_corpus['text'].astype(str).str.lower()\n",
    "full_corpus['art_topic'] = full_corpus['art_topic'].str.lower()\n",
    "full_corpus['art_bias'] = full_corpus[\"art_source\"].apply(bias_assignment)"
   ]
  },
  {
   "cell_type": "code",
   "execution_count": 23,
   "metadata": {},
   "outputs": [
    {
     "data": {
      "text/html": [
       "<div>\n",
       "<style scoped>\n",
       "    .dataframe tbody tr th:only-of-type {\n",
       "        vertical-align: middle;\n",
       "    }\n",
       "\n",
       "    .dataframe tbody tr th {\n",
       "        vertical-align: top;\n",
       "    }\n",
       "\n",
       "    .dataframe thead th {\n",
       "        text-align: right;\n",
       "    }\n",
       "</style>\n",
       "<table border=\"1\" class=\"dataframe\">\n",
       "  <thead>\n",
       "    <tr style=\"text-align: right;\">\n",
       "      <th></th>\n",
       "      <th>art_title</th>\n",
       "      <th>art_author</th>\n",
       "      <th>art_date</th>\n",
       "      <th>art_topic</th>\n",
       "      <th>art_link</th>\n",
       "      <th>art_source</th>\n",
       "      <th>text</th>\n",
       "      <th>art_bias</th>\n",
       "    </tr>\n",
       "  </thead>\n",
       "  <tbody>\n",
       "    <tr>\n",
       "      <th>0</th>\n",
       "      <td>The emerging markets e-commerce opportunity</td>\n",
       "      <td>Christoph Ungerer</td>\n",
       "      <td>2021-03-26</td>\n",
       "      <td>future-development</td>\n",
       "      <td>https://www.brookings.edu/blog/future-developm...</td>\n",
       "      <td>Brookings Institute</td>\n",
       "      <td>while e-commerce giants such as amazon dominat...</td>\n",
       "      <td>left-wing</td>\n",
       "    </tr>\n",
       "    <tr>\n",
       "      <th>1</th>\n",
       "      <td>\"1619\" Pulitzer Will Boost Socialist Teaching ...</td>\n",
       "      <td>Mike Gonzalez</td>\n",
       "      <td>2020-05-11</td>\n",
       "      <td>education</td>\n",
       "      <td>https://www.heritage.org/education/commentary/...</td>\n",
       "      <td>Heritage Commentary</td>\n",
       "      <td>the pulitzer prize board this week awarded its...</td>\n",
       "      <td>right-wing</td>\n",
       "    </tr>\n",
       "    <tr>\n",
       "      <th>2</th>\n",
       "      <td>\"1983\" and \"The Brink\" Review: The Most Danger...</td>\n",
       "      <td>Lee Edwards, Ph.D.</td>\n",
       "      <td>2018-08-10</td>\n",
       "      <td>defense</td>\n",
       "      <td>https://www.heritage.org/defense/commentary/19...</td>\n",
       "      <td>Heritage Commentary</td>\n",
       "      <td>most historians agree that the world came clos...</td>\n",
       "      <td>right-wing</td>\n",
       "    </tr>\n",
       "    <tr>\n",
       "      <th>3</th>\n",
       "      <td>\"60 Minutes\" Snubs the Facts on Education</td>\n",
       "      <td>Jonathan Butcher</td>\n",
       "      <td>2018-03-13</td>\n",
       "      <td>education</td>\n",
       "      <td>https://www.heritage.org/education/commentary/...</td>\n",
       "      <td>Heritage Commentary</td>\n",
       "      <td>beth richardson is committed to her son’s succ...</td>\n",
       "      <td>right-wing</td>\n",
       "    </tr>\n",
       "    <tr>\n",
       "      <th>4</th>\n",
       "      <td>\"As Israel and the Arabs Battle, Moscow Collec...</td>\n",
       "      <td>James Phillips</td>\n",
       "      <td>1983-09-20</td>\n",
       "      <td>europe</td>\n",
       "      <td>https://www.heritage.org/europe/report/israel-...</td>\n",
       "      <td>Heritage Report</td>\n",
       "      <td>i i 291 september 20, 1983 as israel and the a...</td>\n",
       "      <td>right-wing</td>\n",
       "    </tr>\n",
       "  </tbody>\n",
       "</table>\n",
       "</div>"
      ],
      "text/plain": [
       "                                           art_title          art_author  \\\n",
       "0        The emerging markets e-commerce opportunity   Christoph Ungerer   \n",
       "1  \"1619\" Pulitzer Will Boost Socialist Teaching ...       Mike Gonzalez   \n",
       "2  \"1983\" and \"The Brink\" Review: The Most Danger...  Lee Edwards, Ph.D.   \n",
       "3          \"60 Minutes\" Snubs the Facts on Education    Jonathan Butcher   \n",
       "4  \"As Israel and the Arabs Battle, Moscow Collec...      James Phillips   \n",
       "\n",
       "    art_date           art_topic  \\\n",
       "0 2021-03-26  future-development   \n",
       "1 2020-05-11           education   \n",
       "2 2018-08-10             defense   \n",
       "3 2018-03-13           education   \n",
       "4 1983-09-20              europe   \n",
       "\n",
       "                                            art_link           art_source  \\\n",
       "0  https://www.brookings.edu/blog/future-developm...  Brookings Institute   \n",
       "1  https://www.heritage.org/education/commentary/...  Heritage Commentary   \n",
       "2  https://www.heritage.org/defense/commentary/19...  Heritage Commentary   \n",
       "3  https://www.heritage.org/education/commentary/...  Heritage Commentary   \n",
       "4  https://www.heritage.org/europe/report/israel-...      Heritage Report   \n",
       "\n",
       "                                                text    art_bias  \n",
       "0  while e-commerce giants such as amazon dominat...   left-wing  \n",
       "1  the pulitzer prize board this week awarded its...  right-wing  \n",
       "2  most historians agree that the world came clos...  right-wing  \n",
       "3  beth richardson is committed to her son’s succ...  right-wing  \n",
       "4  i i 291 september 20, 1983 as israel and the a...  right-wing  "
      ]
     },
     "execution_count": 23,
     "metadata": {},
     "output_type": "execute_result"
    }
   ],
   "source": [
    "full_corpus.head()"
   ]
  },
  {
   "cell_type": "code",
   "execution_count": 8,
   "metadata": {},
   "outputs": [],
   "source": [
    "full_corpus['text_token']=full_corpus['text'].apply(nltk.tokenize.word_tokenize)"
   ]
  },
  {
   "cell_type": "code",
   "execution_count": 10,
   "metadata": {},
   "outputs": [
    {
     "data": {
      "text/plain": [
       "art_title             string\n",
       "art_author            string\n",
       "art_date      datetime64[ns]\n",
       "art_topic             string\n",
       "art_link              string\n",
       "art_source            string\n",
       "text                  object\n",
       "text_token            object\n",
       "dtype: object"
      ]
     },
     "execution_count": 10,
     "metadata": {},
     "output_type": "execute_result"
    }
   ],
   "source": []
  }
 ],
 "metadata": {
  "kernelspec": {
   "display_name": "Python 3.9.15 ('political_sentiment')",
   "language": "python",
   "name": "python3"
  },
  "language_info": {
   "codemirror_mode": {
    "name": "ipython",
    "version": 3
   },
   "file_extension": ".py",
   "mimetype": "text/x-python",
   "name": "python",
   "nbconvert_exporter": "python",
   "pygments_lexer": "ipython3",
   "version": "3.9.15"
  },
  "orig_nbformat": 4,
  "vscode": {
   "interpreter": {
    "hash": "6e38ea1e5deeed82a3b294ec323014828b987cd6fe46463ab21a833d1705cc24"
   }
  }
 },
 "nbformat": 4,
 "nbformat_minor": 2
}
