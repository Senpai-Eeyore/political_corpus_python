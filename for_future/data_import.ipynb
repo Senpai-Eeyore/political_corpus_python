{
 "cells": [
  {
   "cell_type": "markdown",
   "id": "f9a32fa1-9392-406b-9b9a-f0709a42a5f1",
   "metadata": {},
   "source": [
    "Importing Libraries to Start"
   ]
  },
  {
   "cell_type": "code",
   "execution_count": 2,
   "id": "344cdc62-7e13-4fc9-93ba-fbbb13ba1575",
   "metadata": {},
   "outputs": [],
   "source": [
    "from bs4 import BeautifulSoup\n",
    "import requests\n",
    "import numpy as np\n",
    "import pandas as pd\n",
    "import regex as re"
   ]
  },
  {
   "cell_type": "markdown",
   "id": "51776789",
   "metadata": {},
   "source": [
    "# Function Definition\n",
    "\n",
    "Guidance on Web Scraping with Beautiful Soup\n",
    "https://github.com/brodriguezmilla/WebScrapingCFCBS4/blob/master/scrapingMailingAddresses-shortExplained.ipynb\n",
    "\n",
    "Getting Unique Values for List\n",
    "https://www.geeksforgeeks.org/python-get-unique-values-list/\n"
   ]
  },
  {
   "cell_type": "code",
   "execution_count": 12,
   "id": "f424d25d-f390-4ae6-a6c9-a30d61103e59",
   "metadata": {},
   "outputs": [],
   "source": [
    "def link_getting(url, my_headers, explore = True, html_get = \"a\", reg_exp = \"\"):\n",
    "\n",
    "    assert isinstance(url, str), f\"url must be a String\"\n",
    "    assert isinstance(reg_exp, str), f\"Regular Expression must be a String\"\n",
    "\n",
    "    session = requests.Session()\n",
    "    try:\n",
    "        con = session.get(url, headers = my_headers)\n",
    "    except Exception as e:\n",
    "        print(\"Error feteching the URL \", url)\n",
    "        print(e)\n",
    "    try:\n",
    "        soup = BeautifulSoup(con.text, \"html.parser\")\n",
    "    except Exception as e:\n",
    "        print(\"Could not parse: \", url)\n",
    "        print(e)\n",
    "    if explore:\n",
    "        container_list = soup.find_all(html_get)\n",
    "        return([tag for tag in container_list])\n",
    "    else:\n",
    "        container_list = soup.find_all(html_get, href=re.compile(reg_exp))\n",
    "        return([tag.get(\"href\") for tag in container_list])\n",
    "    \n",
    "def unique_array(list1):\n",
    "\n",
    "    assert isinstance(list1, list), f\"List1 must be a list\"\n",
    "\n",
    "    temp = np.array(list1)\n",
    "    return np.unique(temp)\n",
    "\n",
    "def link_cleaning(list1, reg_exp = \"\"):\n",
    "\n",
    "    assert isinstance(list1, list), f\"List1 must be a list\"\n",
    "    assert isinstance(reg_exp, str), f\"Regular Expression must be a String\"\n",
    "\n",
    "    temp = np.char.strip(unique_array(list1))\n",
    "    regex = re.compile(reg_exp)\n",
    "    return [tag for tag in temp if regex.match(tag)]"
   ]
  },
  {
   "cell_type": "markdown",
   "id": "ca21bada",
   "metadata": {},
   "source": [
    "# Defining the Website Start"
   ]
  },
  {
   "cell_type": "code",
   "execution_count": 4,
   "id": "8675069d-894e-4183-af69-103e21aa9310",
   "metadata": {},
   "outputs": [],
   "source": [
    "my_headers = {\"User-Agent\": \"Mozilla/5.0 (X11; Linux x86_64; rv:107.0) Gecko/20100101 Firefox/107.0\"}\n",
    "\n",
    "brookings = \"https://www.brookings.edu/topics\"\n",
    "\n",
    "heritage = \"https://www.heritage.org\"\n",
    "\n",
    "brookings_topic_regex = \".+(topic)+/\"\n",
    "brookings_blog_regex = \".+(blog|research)+/\"\n",
    "\n",
    "heritage_regex = \"^/\\w*+$\"\n",
    "heritage_commentary_regex = \".+(commentary)+/\""
   ]
  },
  {
   "cell_type": "markdown",
   "id": "4d138f3c",
   "metadata": {},
   "source": [
    "## Brookings Link Gathering"
   ]
  },
  {
   "cell_type": "code",
   "execution_count": 5,
   "id": "2567ee09-ea66-412c-a709-dbb0a7164a39",
   "metadata": {},
   "outputs": [],
   "source": [
    "brookings_initial_list = link_getting(brookings, my_headers, explore = False, html_get = \"a\", reg_exp = \"\")"
   ]
  },
  {
   "cell_type": "code",
   "execution_count": 40,
   "id": "707d20fe-1dac-473d-92c9-df9af277cc34",
   "metadata": {},
   "outputs": [],
   "source": [
    "brookings_topic_initial = link_cleaning(brookings_initial_list, brookings_topic_regex)"
   ]
  },
  {
   "cell_type": "markdown",
   "id": "fd5ee50f",
   "metadata": {},
   "source": [
    "## Brookings Test"
   ]
  },
  {
   "cell_type": "code",
   "execution_count": 41,
   "id": "a0f2335c-1489-4063-aca2-a325c57abf55",
   "metadata": {},
   "outputs": [],
   "source": [
    "brookings_test = link_getting(brookings_topic_initial[23], my_headers, explore = False, reg_exp=brookings_blog_regex)"
   ]
  },
  {
   "cell_type": "code",
   "execution_count": 50,
   "id": "b011a452",
   "metadata": {},
   "outputs": [],
   "source": [
    "brookings_iterated_list = []\n",
    "\n",
    "for tag in brookings_topic_initial:\n",
    "    tag_list = link_getting(tag, my_headers, explore = False, reg_exp=brookings_blog_regex)\n",
    "    for sub_tag in tag_list:\n",
    "        brookings_iterated_list.append(sub_tag)"
   ]
  },
  {
   "cell_type": "code",
   "execution_count": 51,
   "id": "599bfb19",
   "metadata": {},
   "outputs": [],
   "source": [
    "brookings_final = link_cleaning(brookings_iterated_list)"
   ]
  },
  {
   "cell_type": "markdown",
   "id": "083b8fe3",
   "metadata": {},
   "source": [
    "# Heritage Link Pulls"
   ]
  },
  {
   "cell_type": "code",
   "execution_count": 6,
   "id": "9ddb0bdf-cd89-4c31-9e67-314cabc29a7e",
   "metadata": {},
   "outputs": [],
   "source": [
    "heritage_initial_list = link_getting(heritage, my_headers, explore = False, html_get = \"a\", reg_exp = \"^/\\w*\")"
   ]
  },
  {
   "cell_type": "code",
   "execution_count": 43,
   "id": "9b2bbde2",
   "metadata": {},
   "outputs": [],
   "source": [
    "heritage_topic_initial = link_cleaning(heritage_initial_list, heritage_regex)\n",
    "heritage_topic_initial = heritage_topic_initial[1:]\n",
    "heritage_topic_initial = [heritage+tag for tag in heritage_topic_initial]"
   ]
  },
  {
   "cell_type": "code",
   "execution_count": 46,
   "id": "f50c6c29",
   "metadata": {},
   "outputs": [],
   "source": [
    "heritage_test = link_getting(heritage_topic_initial[1], my_headers, explore = False, reg_exp=heritage_commentary_regex)"
   ]
  },
  {
   "cell_type": "code",
   "execution_count": 47,
   "id": "5a281f16",
   "metadata": {},
   "outputs": [],
   "source": [
    "heritage_iterated_list = []\n",
    "\n",
    "for tag in heritage_topic_initial:\n",
    "    tag_list = link_getting(tag, my_headers, explore = False, reg_exp=heritage_commentary_regex)\n",
    "    for sub_tag in tag_list:\n",
    "        heritage_iterated_list.append(sub_tag)"
   ]
  },
  {
   "cell_type": "code",
   "execution_count": 48,
   "id": "faae3ffd",
   "metadata": {},
   "outputs": [],
   "source": [
    "heritage_final = []\n",
    "heritage_link_check_regex = re.compile(heritage)\n",
    "for tag in heritage_iterated_list:\n",
    "    if heritage_link_check_regex.match(tag):\n",
    "        heritage_final.append(tag)\n",
    "    else:\n",
    "        heritage_final.append(heritage + tag)\n"
   ]
  },
  {
   "cell_type": "code",
   "execution_count": 49,
   "id": "5073b54d",
   "metadata": {},
   "outputs": [],
   "source": [
    "heritage_final = link_cleaning(heritage_final)"
   ]
  }
 ],
 "metadata": {
  "kernelspec": {
   "display_name": "Python 3.9.15 ('political_sentiment')",
   "language": "python",
   "name": "python3"
  },
  "language_info": {
   "codemirror_mode": {
    "name": "ipython",
    "version": 3
   },
   "file_extension": ".py",
   "mimetype": "text/x-python",
   "name": "python",
   "nbconvert_exporter": "python",
   "pygments_lexer": "ipython3",
   "version": "3.9.15"
  },
  "vscode": {
   "interpreter": {
    "hash": "6e38ea1e5deeed82a3b294ec323014828b987cd6fe46463ab21a833d1705cc24"
   }
  }
 },
 "nbformat": 4,
 "nbformat_minor": 5
}
