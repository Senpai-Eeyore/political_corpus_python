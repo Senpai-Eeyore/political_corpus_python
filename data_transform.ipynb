{
 "cells": [
  {
   "cell_type": "code",
   "execution_count": 21,
   "id": "f8a53aae-c597-4365-9cc8-2467f558a937",
   "metadata": {},
   "outputs": [],
   "source": [
    "import pandas as pd\n",
    "\n",
    "def data_pull(data_filename, data_path = \"./data/\", data_type = 'csv'):\n",
    "\n",
    "    assert isinstance(data_filename, str), f\"Filename must be a string\"\n",
    "    data_path = \"./data/\"\n",
    "    if data_type == \"csv\":\n",
    "        return pd.read_csv(data_path + data_filename + \".csv\")\n",
    "    elif data_type == \"pickle\":\n",
    "        return pd.read_pickle(data_path + data_filename + \".pkl\")\n",
    "\n",
    "\n",
    "def data_store(df, data_filename, data_path = \"./data/\", data_type = \"pickle\"):\n",
    "\n",
    "    assert isinstance(df, pd.DataFrame)\n",
    "    data_path = \"./data/\"\n",
    "    if data_type == \"csv\":\n",
    "        df.to_csv(data_path+data_filename+\".csv\")\n",
    "    elif data_type == \"pickle\":\n",
    "        df.to_pickle(data_path+data_filename+\".pkl\", compression={'method': 'gzip', 'compresslevel': 1, 'mtime': 1})\n"
   ]
  },
  {
   "cell_type": "code",
   "execution_count": 8,
   "id": "975ca699",
   "metadata": {},
   "outputs": [],
   "source": [
    "\n",
    "jacobin_text = data_pull(\"jacobin_text.csv\")\n",
    "brooking_text = data_pull(\"brooking_text.csv\")\n",
    "heritage_com_text = data_pull(\"heritage_com_text.csv\")\n",
    "heritage_rep_text = data_pull(\"heritage_rep_text.csv\")\n",
    "american_mind_features_text = data_pull(\"american_mind_features_text.csv\")\n",
    "american_mind_memos_text = data_pull(\"american_mind_memos_text.csv\")\n",
    "american_mind_salvos_text = data_pull(\"american_mind_salvos_text.csv\")"
   ]
  },
  {
   "cell_type": "code",
   "execution_count": 23,
   "id": "91eee546",
   "metadata": {},
   "outputs": [],
   "source": [
    "data_store(jacobin_text, \"jacobin_text\")\n",
    "data_store(brooking_text, \"brooking_text\")\n",
    "data_store(heritage_com_text, \"heritage_com_text\")\n",
    "data_store(heritage_rep_text, \"heritage_rep_text\")\n",
    "data_store(american_mind_features_text, \"american_mind_features_text\")\n",
    "data_store(american_mind_memos_text, \"american_mind_memos_text\")\n",
    "data_store(american_mind_salvos_text, \"american_mind_salvos_text\")"
   ]
  }
 ],
 "metadata": {
  "kernelspec": {
   "display_name": "Python 3.9.15 ('political_sentiment')",
   "language": "python",
   "name": "python3"
  },
  "language_info": {
   "codemirror_mode": {
    "name": "ipython",
    "version": 3
   },
   "file_extension": ".py",
   "mimetype": "text/x-python",
   "name": "python",
   "nbconvert_exporter": "python",
   "pygments_lexer": "ipython3",
   "version": "3.9.15"
  },
  "vscode": {
   "interpreter": {
    "hash": "6e38ea1e5deeed82a3b294ec323014828b987cd6fe46463ab21a833d1705cc24"
   }
  }
 },
 "nbformat": 4,
 "nbformat_minor": 5
}
