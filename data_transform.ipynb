{
 "cells": [
  {
   "cell_type": "code",
   "execution_count": 13,
   "id": "86cb7e1b",
   "metadata": {},
   "outputs": [],
   "source": [
    "import scripts.data_pull as dp\n",
    "import scripts.data_store as ds\n",
    "import scripts.bias_assignment as bias\n",
    "import pandas as pd"
   ]
  },
  {
   "cell_type": "markdown",
   "id": "df508d18",
   "metadata": {},
   "source": [
    "https://pandas.pydata.org/Pandas_Cheat_Sheet.pdf"
   ]
  },
  {
   "cell_type": "code",
   "execution_count": 14,
   "id": "975ca699",
   "metadata": {},
   "outputs": [],
   "source": [
    "# Reading Raw Data into Pandas Dataframe from Pickle\n",
    "jacobin_text = dp.data_pull(\"jacobin_text\")\n",
    "brooking_text = dp.data_pull(\"brooking_text\")\n",
    "heritage_com_text = dp.data_pull(\"heritage_com_text\")\n",
    "heritage_rep_text = dp.data_pull(\"heritage_rep_text\")\n",
    "american_mind_features_text = dp.data_pull(\"american_mind_features_text\")\n",
    "american_mind_memos_text = dp.data_pull(\"american_mind_memos_text\")\n",
    "american_mind_salvos_text = dp.data_pull(\"american_mind_salvos_text\")"
   ]
  },
  {
   "cell_type": "code",
   "execution_count": null,
   "id": "91eee546",
   "metadata": {},
   "outputs": [],
   "source": [
    "data_corpus = pd.concat([jacobin_text, brooking_text, heritage_com_text, heritage_rep_text, american_mind_features_text, american_mind_memos_text, american_mind_salvos_text])"
   ]
  },
  {
   "cell_type": "code",
   "execution_count": null,
   "id": "2ac0b157",
   "metadata": {},
   "outputs": [],
   "source": [
    "data_corpus = data_corpus.dropna()"
   ]
  },
  {
   "cell_type": "code",
   "execution_count": null,
   "id": "d7250042",
   "metadata": {},
   "outputs": [],
   "source": [
    "corpus_type_dict = {'text': 'string', 'art_title': 'string', 'art_author': 'string', 'art_topic': 'string', 'art_link': 'string', 'art_source': 'string'}\n",
    "corpus_cols = ['text', 'art_title', 'art_author', 'art_date', 'art_topic', 'art_link', 'art_source']"
   ]
  },
  {
   "cell_type": "markdown",
   "id": "99322537",
   "metadata": {},
   "source": [
    "https://pandas.pydata.org/pandas-docs/stable/reference/api/pandas.DataFrame.astype.html"
   ]
  },
  {
   "cell_type": "code",
   "execution_count": null,
   "id": "c0d7df01",
   "metadata": {},
   "outputs": [],
   "source": [
    "data_corpus = data_corpus.astype(corpus_type_dict)\n",
    "data_corpus['art_date'] = pd.to_datetime(data_corpus['art_date'], yearfirst= True)"
   ]
  },
  {
   "cell_type": "code",
   "execution_count": null,
   "id": "47f74bee",
   "metadata": {},
   "outputs": [],
   "source": [
    "data_corpus.dtypes"
   ]
  },
  {
   "cell_type": "markdown",
   "id": "1c7cc976",
   "metadata": {},
   "source": [
    "https://stackoverflow.com/questions/36392735/how-to-combine-multiple-rows-into-a-single-row-with-pandas"
   ]
  },
  {
   "cell_type": "code",
   "execution_count": null,
   "id": "c770bb7c",
   "metadata": {},
   "outputs": [],
   "source": [
    "full_corpus = data_corpus.groupby(corpus_cols[1:])['text'].apply(' '.join).reset_index()"
   ]
  },
  {
   "cell_type": "code",
   "execution_count": null,
   "outputs": [],
   "source": [
    "full_corpus['text'] = full_corpus['text'].astype(str).str.lower()\n",
    "full_corpus['art_topic'] = full_corpus['art_topic'].str.lower()\n",
    "full_corpus['art_bias'] = full_corpus[\"art_source\"].apply(bias.bias_assignment)"
   ],
   "metadata": {
    "collapsed": false
   }
  },
  {
   "cell_type": "code",
   "execution_count": null,
   "id": "7ba20c03",
   "metadata": {},
   "outputs": [],
   "source": [
    "full_corpus.head()"
   ]
  },
  {
   "cell_type": "code",
   "execution_count": null,
   "id": "f156a3ea",
   "metadata": {},
   "outputs": [],
   "source": [
    "ds.data_store(full_corpus, data_filename= 'combined_corpus')"
   ]
  }
 ],
 "metadata": {
  "kernelspec": {
   "display_name": "Python 3.9.15 ('political_sentiment')",
   "language": "python",
   "name": "python3"
  },
  "language_info": {
   "codemirror_mode": {
    "name": "ipython",
    "version": 3
   },
   "file_extension": ".py",
   "mimetype": "text/x-python",
   "name": "python",
   "nbconvert_exporter": "python",
   "pygments_lexer": "ipython3",
   "version": "3.9.15"
  },
  "vscode": {
   "interpreter": {
    "hash": "6e38ea1e5deeed82a3b294ec323014828b987cd6fe46463ab21a833d1705cc24"
   }
  }
 },
 "nbformat": 4,
 "nbformat_minor": 5
}
