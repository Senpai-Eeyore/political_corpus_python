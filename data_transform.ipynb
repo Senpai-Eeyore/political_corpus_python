{
 "cells": [
  {
   "cell_type": "code",
   "execution_count": 1,
   "id": "86cb7e1b",
   "metadata": {},
   "outputs": [],
   "source": [
    "import scripts.data_pull as dp\n",
    "import scripts.data_store as ds\n",
    "import scripts.bias_assignment as bias\n",
    "import pandas as pd"
   ]
  },
  {
   "cell_type": "markdown",
   "id": "df508d18",
   "metadata": {},
   "source": [
    "https://pandas.pydata.org/Pandas_Cheat_Sheet.pdf"
   ]
  },
  {
   "cell_type": "code",
   "execution_count": 2,
   "id": "975ca699",
   "metadata": {},
   "outputs": [],
   "source": [
    "# Reading Raw Data into Pandas Dataframe from Pickle\n",
    "jacobin_text = dp.data_pull(\"jacobin_text\")\n",
    "brooking_text = dp.data_pull(\"brooking_text\")\n",
    "heritage_com_text = dp.data_pull(\"heritage_com_text\")\n",
    "heritage_rep_text = dp.data_pull(\"heritage_rep_text\")\n",
    "american_mind_features_text = dp.data_pull(\"american_mind_features_text\")\n",
    "american_mind_memos_text = dp.data_pull(\"american_mind_memos_text\")\n",
    "american_mind_salvos_text = dp.data_pull(\"american_mind_salvos_text\")"
   ]
  },
  {
   "cell_type": "code",
   "execution_count": 3,
   "id": "91eee546",
   "metadata": {},
   "outputs": [],
   "source": [
    "data_corpus = pd.concat([jacobin_text, brooking_text, heritage_com_text, heritage_rep_text, american_mind_features_text, american_mind_memos_text, american_mind_salvos_text])"
   ]
  },
  {
   "cell_type": "code",
   "execution_count": 4,
   "id": "2ac0b157",
   "metadata": {},
   "outputs": [],
   "source": [
    "data_corpus = data_corpus.dropna()"
   ]
  },
  {
   "cell_type": "code",
   "execution_count": 5,
   "id": "d7250042",
   "metadata": {},
   "outputs": [],
   "source": [
    "corpus_type_dict = {'text': 'string', 'art_title': 'string', 'art_author': 'string', 'art_topic': 'string', 'art_link': 'string', 'art_source': 'string'}\n",
    "corpus_cols = ['text', 'art_title', 'art_author', 'art_date', 'art_topic', 'art_link', 'art_source']"
   ]
  },
  {
   "cell_type": "markdown",
   "id": "99322537",
   "metadata": {},
   "source": [
    "https://pandas.pydata.org/pandas-docs/stable/reference/api/pandas.DataFrame.astype.html"
   ]
  },
  {
   "cell_type": "code",
   "execution_count": 6,
   "id": "c0d7df01",
   "metadata": {},
   "outputs": [],
   "source": [
    "data_corpus = data_corpus.astype(corpus_type_dict)\n",
    "data_corpus['art_date'] = pd.to_datetime(data_corpus['art_date'], yearfirst= True)"
   ]
  },
  {
   "cell_type": "code",
   "execution_count": 7,
   "id": "47f74bee",
   "metadata": {},
   "outputs": [
    {
     "data": {
      "text/plain": "text                  string\nart_title             string\nart_author            string\nart_date      datetime64[ns]\nart_topic             string\nart_link              string\nart_source            string\ndtype: object"
     },
     "execution_count": 7,
     "metadata": {},
     "output_type": "execute_result"
    }
   ],
   "source": [
    "data_corpus.dtypes"
   ]
  },
  {
   "cell_type": "markdown",
   "id": "1c7cc976",
   "metadata": {},
   "source": [
    "https://stackoverflow.com/questions/36392735/how-to-combine-multiple-rows-into-a-single-row-with-pandas"
   ]
  },
  {
   "cell_type": "code",
   "execution_count": 8,
   "id": "c770bb7c",
   "metadata": {},
   "outputs": [],
   "source": [
    "full_corpus = data_corpus.groupby(corpus_cols[1:])['text'].apply(' '.join).reset_index()"
   ]
  },
  {
   "cell_type": "code",
   "execution_count": 9,
   "outputs": [],
   "source": [
    "full_corpus['text'] = full_corpus['text'].astype(str).str.lower()\n",
    "full_corpus['art_topic'] = full_corpus['art_topic'].str.lower()\n",
    "full_corpus['art_bias'] = full_corpus[\"art_source\"].apply(bias.bias_assignment)"
   ],
   "metadata": {
    "collapsed": false
   }
  },
  {
   "cell_type": "code",
   "execution_count": 10,
   "id": "7ba20c03",
   "metadata": {},
   "outputs": [
    {
     "data": {
      "text/plain": "                                           art_title          art_author  \\\n0        The emerging markets e-commerce opportunity   Christoph Ungerer   \n1  \"1619\" Pulitzer Will Boost Socialist Teaching ...       Mike Gonzalez   \n2  \"1983\" and \"The Brink\" Review: The Most Danger...  Lee Edwards, Ph.D.   \n3          \"60 Minutes\" Snubs the Facts on Education    Jonathan Butcher   \n4  \"As Israel and the Arabs Battle, Moscow Collec...      James Phillips   \n\n    art_date           art_topic  \\\n0 2021-03-26  future-development   \n1 2020-05-11           education   \n2 2018-08-10             defense   \n3 2018-03-13           education   \n4 1983-09-20              europe   \n\n                                            art_link           art_source  \\\n0  https://www.brookings.edu/blog/future-developm...  Brookings Institute   \n1  https://www.heritage.org/education/commentary/...  Heritage Commentary   \n2  https://www.heritage.org/defense/commentary/19...  Heritage Commentary   \n3  https://www.heritage.org/education/commentary/...  Heritage Commentary   \n4  https://www.heritage.org/europe/report/israel-...      Heritage Report   \n\n                                                text    art_bias  \n0  while e-commerce giants such as amazon dominat...   left-wing  \n1  the pulitzer prize board this week awarded its...  right-wing  \n2  most historians agree that the world came clos...  right-wing  \n3  beth richardson is committed to her son’s succ...  right-wing  \n4  i i 291 september 20, 1983 as israel and the a...  right-wing  ",
      "text/html": "<div>\n<style scoped>\n    .dataframe tbody tr th:only-of-type {\n        vertical-align: middle;\n    }\n\n    .dataframe tbody tr th {\n        vertical-align: top;\n    }\n\n    .dataframe thead th {\n        text-align: right;\n    }\n</style>\n<table border=\"1\" class=\"dataframe\">\n  <thead>\n    <tr style=\"text-align: right;\">\n      <th></th>\n      <th>art_title</th>\n      <th>art_author</th>\n      <th>art_date</th>\n      <th>art_topic</th>\n      <th>art_link</th>\n      <th>art_source</th>\n      <th>text</th>\n      <th>art_bias</th>\n    </tr>\n  </thead>\n  <tbody>\n    <tr>\n      <th>0</th>\n      <td>The emerging markets e-commerce opportunity</td>\n      <td>Christoph Ungerer</td>\n      <td>2021-03-26</td>\n      <td>future-development</td>\n      <td>https://www.brookings.edu/blog/future-developm...</td>\n      <td>Brookings Institute</td>\n      <td>while e-commerce giants such as amazon dominat...</td>\n      <td>left-wing</td>\n    </tr>\n    <tr>\n      <th>1</th>\n      <td>\"1619\" Pulitzer Will Boost Socialist Teaching ...</td>\n      <td>Mike Gonzalez</td>\n      <td>2020-05-11</td>\n      <td>education</td>\n      <td>https://www.heritage.org/education/commentary/...</td>\n      <td>Heritage Commentary</td>\n      <td>the pulitzer prize board this week awarded its...</td>\n      <td>right-wing</td>\n    </tr>\n    <tr>\n      <th>2</th>\n      <td>\"1983\" and \"The Brink\" Review: The Most Danger...</td>\n      <td>Lee Edwards, Ph.D.</td>\n      <td>2018-08-10</td>\n      <td>defense</td>\n      <td>https://www.heritage.org/defense/commentary/19...</td>\n      <td>Heritage Commentary</td>\n      <td>most historians agree that the world came clos...</td>\n      <td>right-wing</td>\n    </tr>\n    <tr>\n      <th>3</th>\n      <td>\"60 Minutes\" Snubs the Facts on Education</td>\n      <td>Jonathan Butcher</td>\n      <td>2018-03-13</td>\n      <td>education</td>\n      <td>https://www.heritage.org/education/commentary/...</td>\n      <td>Heritage Commentary</td>\n      <td>beth richardson is committed to her son’s succ...</td>\n      <td>right-wing</td>\n    </tr>\n    <tr>\n      <th>4</th>\n      <td>\"As Israel and the Arabs Battle, Moscow Collec...</td>\n      <td>James Phillips</td>\n      <td>1983-09-20</td>\n      <td>europe</td>\n      <td>https://www.heritage.org/europe/report/israel-...</td>\n      <td>Heritage Report</td>\n      <td>i i 291 september 20, 1983 as israel and the a...</td>\n      <td>right-wing</td>\n    </tr>\n  </tbody>\n</table>\n</div>"
     },
     "execution_count": 10,
     "metadata": {},
     "output_type": "execute_result"
    }
   ],
   "source": [
    "full_corpus.head()"
   ]
  },
  {
   "cell_type": "code",
   "execution_count": 12,
   "id": "f156a3ea",
   "metadata": {},
   "outputs": [],
   "source": [
    "ds.data_store(full_corpus, data_filename= 'combined_corpus')"
   ]
  },
  {
   "cell_type": "code",
   "execution_count": null,
   "outputs": [],
   "source": [],
   "metadata": {
    "collapsed": false
   }
  }
 ],
 "metadata": {
  "kernelspec": {
   "display_name": "Python 3.9.15 ('political_sentiment')",
   "language": "python",
   "name": "python3"
  },
  "language_info": {
   "codemirror_mode": {
    "name": "ipython",
    "version": 3
   },
   "file_extension": ".py",
   "mimetype": "text/x-python",
   "name": "python",
   "nbconvert_exporter": "python",
   "pygments_lexer": "ipython3",
   "version": "3.9.15"
  },
  "vscode": {
   "interpreter": {
    "hash": "6e38ea1e5deeed82a3b294ec323014828b987cd6fe46463ab21a833d1705cc24"
   }
  }
 },
 "nbformat": 4,
 "nbformat_minor": 5
}
